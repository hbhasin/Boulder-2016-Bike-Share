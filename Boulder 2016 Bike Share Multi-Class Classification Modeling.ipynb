{
 "cells": [
  {
   "cell_type": "markdown",
   "metadata": {},
   "source": [
    "# Boulder 2016 Bike Share Multi-Class Classification Modeling"
   ]
  },
  {
   "cell_type": "markdown",
   "metadata": {},
   "source": [
    "## 1. Introduction\n",
    "\n",
    "The data exploration performed on the Boulder Trips dataset indicates weather variables have a significant impact on the number of checkouts. This section will focus on investigating the use of various classification models on the Trips data when combined with weather variables."
   ]
  },
  {
   "cell_type": "code",
   "execution_count": 1,
   "metadata": {
    "collapsed": false
   },
   "outputs": [],
   "source": [
    "# Import necessary libraries and functions that are needed for the modeling\n",
    "import pandas as pd\n",
    "import numpy as np\n",
    "import matplotlib.pyplot as plt\n",
    "from sklearn.tree import DecisionTreeClassifier, export_graphviz\n",
    "from sklearn.ensemble import RandomForestClassifier, ExtraTreesClassifier, GradientBoostingClassifier\n",
    "from sklearn import linear_model, naive_bayes\n",
    "from sklearn.neighbors import KNeighborsClassifier\n",
    "from sklearn.neural_network import MLPClassifier\n",
    "from sklearn.model_selection import ShuffleSplit, train_test_split, cross_val_score\n",
    "from sklearn import metrics\n",
    "import seaborn as sns\n",
    "from timeit import default_timer as timer\n",
    "from imblearn.over_sampling import RandomOverSampler\n",
    "%matplotlib inline"
   ]
  },
  {
   "cell_type": "code",
   "execution_count": 2,
   "metadata": {
    "collapsed": false
   },
   "outputs": [
    {
     "data": {
      "text/html": [
       "<style>body {\n",
       "    margin: 0;\n",
       "    font-family: Helvetica;\n",
       "}\n",
       "table.dataframe {\n",
       "    border-collapse: collapse;\n",
       "    border: none;\n",
       "}\n",
       "table.dataframe tr {\n",
       "    border: none;\n",
       "}\n",
       "table.dataframe td, table.dataframe th {\n",
       "    margin: 0;\n",
       "    border: 1px solid white;\n",
       "    padding-left: 0.25em;\n",
       "    padding-right: 0.25em;\n",
       "}\n",
       "table.dataframe th:not(:empty) {\n",
       "    background-color: #fec;\n",
       "    text-align: left;\n",
       "    font-weight: normal;\n",
       "}\n",
       "table.dataframe tr:nth-child(2) th:empty {\n",
       "    border-left: none;\n",
       "    border-right: 1px dashed #888;\n",
       "}\n",
       "table.dataframe td {\n",
       "    border: 2px solid #ccf;\n",
       "    background-color: #f4f4ff;\n",
       "}\n",
       "h3 {\n",
       "    color: white;\n",
       "    background-color: black;\n",
       "    padding: 0.5em;\n",
       "}\n",
       "</style>"
      ],
      "text/plain": [
       "<IPython.core.display.HTML object>"
      ]
     },
     "execution_count": 2,
     "metadata": {},
     "output_type": "execute_result"
    }
   ],
   "source": [
    "# taken from Brandon Rhodes's Pandas Tutorial (https://github.com/brandon-rhodes)\n",
    "from IPython.core.display import HTML\n",
    "css = open('data/style-table.css').read() + open('data/style-notebook.css').read()\n",
    "HTML('<style>{}</style>'.format(css))"
   ]
  },
  {
   "cell_type": "code",
   "execution_count": 3,
   "metadata": {
    "collapsed": false
   },
   "outputs": [],
   "source": [
    "dF = pd.read_csv(\"data/2016_Boulder_Bike_Trip_ML_Data.gz\", dtype = {'Bike_Number' : object}, compression=\"gzip\")"
   ]
  },
  {
   "cell_type": "code",
   "execution_count": 4,
   "metadata": {
    "collapsed": false
   },
   "outputs": [
    {
     "data": {
      "text/plain": [
       "(98270, 13)"
      ]
     },
     "execution_count": 4,
     "metadata": {},
     "output_type": "execute_result"
    }
   ],
   "source": [
    "dF.shape"
   ]
  },
  {
   "cell_type": "code",
   "execution_count": 5,
   "metadata": {
    "collapsed": false
   },
   "outputs": [
    {
     "data": {
      "text/html": [
       "<div>\n",
       "<table border=\"1\" class=\"dataframe\">\n",
       "  <thead>\n",
       "    <tr style=\"text-align: right;\">\n",
       "      <th></th>\n",
       "      <th>User_Program</th>\n",
       "      <th>User_ID</th>\n",
       "      <th>Membership_Type</th>\n",
       "      <th>Bike_Number</th>\n",
       "      <th>Checkout_Date</th>\n",
       "      <th>Checkout_Hour</th>\n",
       "      <th>Checkout_Kiosk</th>\n",
       "      <th>Return_Date</th>\n",
       "      <th>Return_Time</th>\n",
       "      <th>Return_Kiosk</th>\n",
       "      <th>Trip_Duration</th>\n",
       "      <th>Checkout_WeekDay</th>\n",
       "      <th>Checkout_Month</th>\n",
       "    </tr>\n",
       "  </thead>\n",
       "  <tbody>\n",
       "    <tr>\n",
       "      <th>0</th>\n",
       "      <td>Boulder B-cycle</td>\n",
       "      <td>R1073079</td>\n",
       "      <td>Semester (150-day)</td>\n",
       "      <td>516</td>\n",
       "      <td>2016-01-01</td>\n",
       "      <td>0</td>\n",
       "      <td>15th &amp; Pearl</td>\n",
       "      <td>2016-01-01</td>\n",
       "      <td>01:10:00</td>\n",
       "      <td>UCAR Mitchell Lane</td>\n",
       "      <td>22</td>\n",
       "      <td>4</td>\n",
       "      <td>1</td>\n",
       "    </tr>\n",
       "  </tbody>\n",
       "</table>\n",
       "</div>"
      ],
      "text/plain": [
       "      User_Program   User_ID     Membership_Type Bike_Number Checkout_Date  \\\n",
       "0  Boulder B-cycle  R1073079  Semester (150-day)         516    2016-01-01   \n",
       "\n",
       "   Checkout_Hour Checkout_Kiosk Return_Date Return_Time        Return_Kiosk  \\\n",
       "0              0   15th & Pearl  2016-01-01    01:10:00  UCAR Mitchell Lane   \n",
       "\n",
       "   Trip_Duration  Checkout_WeekDay  Checkout_Month  \n",
       "0             22                 4               1  "
      ]
     },
     "execution_count": 5,
     "metadata": {},
     "output_type": "execute_result"
    }
   ],
   "source": [
    "dF.head(1)"
   ]
  },
  {
   "cell_type": "code",
   "execution_count": 6,
   "metadata": {
    "collapsed": false
   },
   "outputs": [],
   "source": [
    "dF.drop(['User_Program'], axis = 1, inplace = True)\n",
    "dF.drop(['Membership_Type'], axis = 1, inplace = True)\n",
    "dF.drop(['User_ID'], axis = 1, inplace = True)\n",
    "dF.drop(['Bike_Number'], axis = 1, inplace = True)\n",
    "dF.drop(['Checkout_Kiosk'], axis = 1, inplace = True)\n",
    "dF.drop(['Return_Date'], axis = 1, inplace = True)\n",
    "dF.drop(['Return_Kiosk'], axis = 1, inplace = True)\n",
    "dF.drop(['Return_Time'], axis = 1, inplace = True)\n",
    "dF.drop(['Trip_Duration'], axis = 1, inplace = True)\n",
    "#dF.drop(['Trip_Distance'], axis = 1, inplace = True)"
   ]
  },
  {
   "cell_type": "code",
   "execution_count": 7,
   "metadata": {
    "collapsed": false
   },
   "outputs": [
    {
     "name": "stdout",
     "output_type": "stream",
     "text": [
      "<class 'pandas.core.frame.DataFrame'>\n",
      "RangeIndex: 98270 entries, 0 to 98269\n",
      "Data columns (total 4 columns):\n",
      "Checkout_Date       98270 non-null object\n",
      "Checkout_Hour       98270 non-null int64\n",
      "Checkout_WeekDay    98270 non-null int64\n",
      "Checkout_Month      98270 non-null int64\n",
      "dtypes: int64(3), object(1)\n",
      "memory usage: 3.0+ MB\n"
     ]
    }
   ],
   "source": [
    "dF.info()"
   ]
  },
  {
   "cell_type": "code",
   "execution_count": 8,
   "metadata": {
    "collapsed": false
   },
   "outputs": [],
   "source": [
    "# re-arrange columns in preparation for training and test data\n",
    "dF = dF[['Checkout_Date', 'Checkout_Month', 'Checkout_WeekDay', 'Checkout_Hour']]"
   ]
  },
  {
   "cell_type": "code",
   "execution_count": 9,
   "metadata": {
    "collapsed": false
   },
   "outputs": [
    {
     "name": "stdout",
     "output_type": "stream",
     "text": [
      "<class 'pandas.core.frame.DataFrame'>\n",
      "RangeIndex: 98270 entries, 0 to 98269\n",
      "Data columns (total 4 columns):\n",
      "Checkout_Date       98270 non-null object\n",
      "Checkout_Month      98270 non-null int64\n",
      "Checkout_WeekDay    98270 non-null int64\n",
      "Checkout_Hour       98270 non-null int64\n",
      "dtypes: int64(3), object(1)\n",
      "memory usage: 3.0+ MB\n"
     ]
    }
   ],
   "source": [
    "dF.info()"
   ]
  },
  {
   "cell_type": "code",
   "execution_count": 10,
   "metadata": {
    "collapsed": true
   },
   "outputs": [],
   "source": [
    "# Load the 2016 Weather data into a dataframe\n",
    "dW = pd.read_csv(\"data/Boulder_2016_Hourly_Weather_Forecast.csv\")"
   ]
  },
  {
   "cell_type": "code",
   "execution_count": 11,
   "metadata": {
    "collapsed": true
   },
   "outputs": [],
   "source": [
    "dW.rename(columns = {'Hour': 'Checkout_Hour'}, inplace = True)"
   ]
  },
  {
   "cell_type": "code",
   "execution_count": 12,
   "metadata": {
    "collapsed": true
   },
   "outputs": [],
   "source": [
    "dW['Checkout_WeekDay'] = pd.DatetimeIndex(dW['Date']).weekday"
   ]
  },
  {
   "cell_type": "code",
   "execution_count": 13,
   "metadata": {
    "collapsed": true
   },
   "outputs": [],
   "source": [
    "dW['Checkout_Month'] = pd.DatetimeIndex(dW['Date']).month"
   ]
  },
  {
   "cell_type": "code",
   "execution_count": 14,
   "metadata": {
    "collapsed": true
   },
   "outputs": [],
   "source": [
    "dFW = dF.groupby(['Checkout_Date', 'Checkout_Month', 'Checkout_WeekDay', \n",
    "                  'Checkout_Hour']).size().to_frame(name = 'Number_Of_Checkouts').reset_index()"
   ]
  },
  {
   "cell_type": "code",
   "execution_count": 15,
   "metadata": {
    "collapsed": true
   },
   "outputs": [],
   "source": [
    "dT = pd.merge(dW, dFW, how='left', left_on=['Date', 'Checkout_Hour'], \n",
    "              right_on=['Checkout_Date', 'Checkout_Hour'])"
   ]
  },
  {
   "cell_type": "code",
   "execution_count": 16,
   "metadata": {
    "collapsed": false
   },
   "outputs": [
    {
     "data": {
      "text/plain": [
       "True"
      ]
     },
     "execution_count": 16,
     "metadata": {},
     "output_type": "execute_result"
    }
   ],
   "source": [
    "dT.isnull().values.any()"
   ]
  },
  {
   "cell_type": "code",
   "execution_count": 17,
   "metadata": {
    "collapsed": true
   },
   "outputs": [],
   "source": [
    "nan_rows = dT[dT.isnull().T.any().T]"
   ]
  },
  {
   "cell_type": "code",
   "execution_count": 18,
   "metadata": {
    "collapsed": true
   },
   "outputs": [],
   "source": [
    "dT = dT.drop(dT.index[nan_rows.index])"
   ]
  },
  {
   "cell_type": "code",
   "execution_count": 19,
   "metadata": {
    "collapsed": false
   },
   "outputs": [
    {
     "data": {
      "text/plain": [
       "False"
      ]
     },
     "execution_count": 19,
     "metadata": {},
     "output_type": "execute_result"
    }
   ],
   "source": [
    "dT.isnull().values.any()"
   ]
  },
  {
   "cell_type": "code",
   "execution_count": 20,
   "metadata": {
    "collapsed": true
   },
   "outputs": [],
   "source": [
    "dT.drop(['Date', 'Checkout_WeekDay_y', 'Checkout_Month_y'], axis = 1, inplace = True)\n",
    "dT.rename(columns = {'cloudCover': 'Cloud_Cover', 'temperature': 'Temperature', 'apparentTemperature' : 'Apparent_Temperature',\n",
    "                     'windSpeed' : 'Wind_Speed', 'humidity' : 'Humidity', 'visibility' : 'Visibility',\n",
    "                     'Checkout_WeekDay_x': 'Checkout_WeekDay', 'Checkout_Month_x': 'Checkout_Month'}, inplace = True)"
   ]
  },
  {
   "cell_type": "code",
   "execution_count": 21,
   "metadata": {
    "collapsed": false
   },
   "outputs": [],
   "source": [
    "#dT = dT[~((dT.Checkout_Hour == 0)  | (dT.Checkout_Hour == 1)  | (dT.Checkout_Hour == 2)  | (dT.Checkout_Hour == 3)  |\n",
    "         #(dT.Checkout_Hour == 4))]"
   ]
  },
  {
   "cell_type": "code",
   "execution_count": 22,
   "metadata": {
    "collapsed": false
   },
   "outputs": [
    {
     "data": {
      "text/plain": [
       "(7056, 11)"
      ]
     },
     "execution_count": 22,
     "metadata": {},
     "output_type": "execute_result"
    }
   ],
   "source": [
    "dT.shape"
   ]
  },
  {
   "cell_type": "code",
   "execution_count": 23,
   "metadata": {
    "collapsed": false
   },
   "outputs": [
    {
     "data": {
      "text/plain": [
       "113.0"
      ]
     },
     "execution_count": 23,
     "metadata": {},
     "output_type": "execute_result"
    }
   ],
   "source": [
    "dT['Number_Of_Checkouts'].max()"
   ]
  },
  {
   "cell_type": "code",
   "execution_count": 24,
   "metadata": {
    "collapsed": false
   },
   "outputs": [
    {
     "name": "stdout",
     "output_type": "stream",
     "text": [
      "<class 'pandas.core.frame.DataFrame'>\n",
      "Int64Index: 7056 entries, 0 to 8758\n",
      "Data columns (total 11 columns):\n",
      "Checkout_Hour           7056 non-null int64\n",
      "Apparent_Temperature    7056 non-null float64\n",
      "Cloud_Cover             7056 non-null float64\n",
      "Humidity                7056 non-null float64\n",
      "Temperature             7056 non-null float64\n",
      "Visibility              7056 non-null float64\n",
      "Wind_Speed              7056 non-null float64\n",
      "Checkout_WeekDay        7056 non-null int32\n",
      "Checkout_Month          7056 non-null int32\n",
      "Checkout_Date           7056 non-null object\n",
      "Number_Of_Checkouts     7056 non-null float64\n",
      "dtypes: float64(7), int32(2), int64(1), object(1)\n",
      "memory usage: 606.4+ KB\n"
     ]
    }
   ],
   "source": [
    "dT.info()"
   ]
  },
  {
   "cell_type": "code",
   "execution_count": 25,
   "metadata": {
    "collapsed": false
   },
   "outputs": [],
   "source": [
    "dT.rename(columns = {'cloudCover': 'Cloud_Cover', 'temperature': 'Temperature', 'apparentTemperature' : 'Apparent_Temperature',\n",
    "                     'windSpeed' : 'Wind_Speed', 'humidity' : 'Humidity', 'visibility' : 'Visibility'}, inplace = True)"
   ]
  },
  {
   "cell_type": "code",
   "execution_count": 26,
   "metadata": {
    "collapsed": true
   },
   "outputs": [],
   "source": [
    "dT = dT[['Checkout_Date', 'Checkout_Month', 'Checkout_WeekDay', 'Checkout_Hour', 'Temperature', 'Apparent_Temperature',\n",
    "             'Cloud_Cover', 'Humidity', 'Wind_Speed', 'Visibility', 'Number_Of_Checkouts']]"
   ]
  },
  {
   "cell_type": "markdown",
   "metadata": {},
   "source": [
    "### Convert the numeric Calendar and Clock columns into categorical columns"
   ]
  },
  {
   "cell_type": "code",
   "execution_count": 27,
   "metadata": {
    "collapsed": false
   },
   "outputs": [],
   "source": [
    "month_dummies = pd.get_dummies(dT.Checkout_Month, prefix='month')"
   ]
  },
  {
   "cell_type": "code",
   "execution_count": 28,
   "metadata": {
    "collapsed": true
   },
   "outputs": [],
   "source": [
    "weekday_dummies = pd.get_dummies(dT.Checkout_WeekDay, prefix='weekday')"
   ]
  },
  {
   "cell_type": "code",
   "execution_count": 29,
   "metadata": {
    "collapsed": true
   },
   "outputs": [],
   "source": [
    "hour_dummies = pd.get_dummies(dT.Checkout_Hour, prefix='hour')"
   ]
  },
  {
   "cell_type": "code",
   "execution_count": 30,
   "metadata": {
    "collapsed": true
   },
   "outputs": [],
   "source": [
    "data = pd.concat([dT, month_dummies, weekday_dummies, hour_dummies], axis=1)"
   ]
  },
  {
   "cell_type": "code",
   "execution_count": 31,
   "metadata": {
    "collapsed": false
   },
   "outputs": [],
   "source": [
    "data = data[['Checkout_Month', 'Checkout_WeekDay', 'Checkout_Hour',\n",
    "             'month_1', 'month_2', 'month_3', 'month_4', 'month_5', 'month_6', 'month_7', 'month_8',\n",
    "             'month_9', 'month_10', 'month_11', 'month_12',\n",
    "             'weekday_0', 'weekday_1', 'weekday_2', 'weekday_3', 'weekday_4', 'weekday_5', 'weekday_6',\n",
    "             'hour_5', 'hour_6', 'hour_7', 'hour_8', 'hour_9', 'hour_10', 'hour_11', 'hour_12', 'hour_13',\n",
    "             'hour_14', 'hour_15', 'hour_16', 'hour_17',\n",
    "             'hour_18', 'hour_19', 'hour_20', 'hour_21', 'hour_22', 'hour_23',\n",
    "             'Temperature', 'Apparent_Temperature', 'Cloud_Cover', 'Wind_Speed', 'Humidity', 'Visibility',\n",
    "             'Number_Of_Checkouts']]"
   ]
  },
  {
   "cell_type": "code",
   "execution_count": 32,
   "metadata": {
    "collapsed": false
   },
   "outputs": [],
   "source": [
    "data['Number_Of_Checkouts'] = data[['Number_Of_Checkouts']].astype('int32')"
   ]
  },
  {
   "cell_type": "markdown",
   "metadata": {},
   "source": [
    "### Create a Class_Label column for a 2-class classification "
   ]
  },
  {
   "cell_type": "code",
   "execution_count": 33,
   "metadata": {
    "collapsed": false
   },
   "outputs": [],
   "source": [
    "data['Class_Label'] = data['Number_Of_Checkouts'].map(lambda x: 0 if ((x >= 1) & (x <= 10)) \n",
    "                                                 else 1)"
   ]
  },
  {
   "cell_type": "code",
   "execution_count": 34,
   "metadata": {
    "collapsed": false
   },
   "outputs": [
    {
     "data": {
      "text/html": [
       "<div>\n",
       "<table border=\"1\" class=\"dataframe\">\n",
       "  <thead>\n",
       "    <tr style=\"text-align: right;\">\n",
       "      <th></th>\n",
       "      <th>Checkout_Month</th>\n",
       "      <th>Checkout_WeekDay</th>\n",
       "      <th>Checkout_Hour</th>\n",
       "      <th>month_1</th>\n",
       "      <th>month_2</th>\n",
       "      <th>month_3</th>\n",
       "      <th>month_4</th>\n",
       "      <th>month_5</th>\n",
       "      <th>month_6</th>\n",
       "      <th>month_7</th>\n",
       "      <th>...</th>\n",
       "      <th>hour_22</th>\n",
       "      <th>hour_23</th>\n",
       "      <th>Temperature</th>\n",
       "      <th>Apparent_Temperature</th>\n",
       "      <th>Cloud_Cover</th>\n",
       "      <th>Wind_Speed</th>\n",
       "      <th>Humidity</th>\n",
       "      <th>Visibility</th>\n",
       "      <th>Number_Of_Checkouts</th>\n",
       "      <th>Class_Label</th>\n",
       "    </tr>\n",
       "  </thead>\n",
       "  <tbody>\n",
       "    <tr>\n",
       "      <th>0</th>\n",
       "      <td>1</td>\n",
       "      <td>4</td>\n",
       "      <td>0</td>\n",
       "      <td>1</td>\n",
       "      <td>0</td>\n",
       "      <td>0</td>\n",
       "      <td>0</td>\n",
       "      <td>0</td>\n",
       "      <td>0</td>\n",
       "      <td>0</td>\n",
       "      <td>...</td>\n",
       "      <td>0</td>\n",
       "      <td>0</td>\n",
       "      <td>7.52</td>\n",
       "      <td>0.65</td>\n",
       "      <td>0.01</td>\n",
       "      <td>3.50</td>\n",
       "      <td>0.83</td>\n",
       "      <td>7.75</td>\n",
       "      <td>1</td>\n",
       "      <td>0</td>\n",
       "    </tr>\n",
       "    <tr>\n",
       "      <th>4</th>\n",
       "      <td>1</td>\n",
       "      <td>4</td>\n",
       "      <td>4</td>\n",
       "      <td>1</td>\n",
       "      <td>0</td>\n",
       "      <td>0</td>\n",
       "      <td>0</td>\n",
       "      <td>0</td>\n",
       "      <td>0</td>\n",
       "      <td>0</td>\n",
       "      <td>...</td>\n",
       "      <td>0</td>\n",
       "      <td>0</td>\n",
       "      <td>5.37</td>\n",
       "      <td>-2.51</td>\n",
       "      <td>0.00</td>\n",
       "      <td>3.90</td>\n",
       "      <td>0.81</td>\n",
       "      <td>9.61</td>\n",
       "      <td>1</td>\n",
       "      <td>0</td>\n",
       "    </tr>\n",
       "    <tr>\n",
       "      <th>9</th>\n",
       "      <td>1</td>\n",
       "      <td>4</td>\n",
       "      <td>9</td>\n",
       "      <td>1</td>\n",
       "      <td>0</td>\n",
       "      <td>0</td>\n",
       "      <td>0</td>\n",
       "      <td>0</td>\n",
       "      <td>0</td>\n",
       "      <td>0</td>\n",
       "      <td>...</td>\n",
       "      <td>0</td>\n",
       "      <td>0</td>\n",
       "      <td>14.37</td>\n",
       "      <td>6.74</td>\n",
       "      <td>0.02</td>\n",
       "      <td>4.70</td>\n",
       "      <td>0.65</td>\n",
       "      <td>10.00</td>\n",
       "      <td>1</td>\n",
       "      <td>0</td>\n",
       "    </tr>\n",
       "    <tr>\n",
       "      <th>10</th>\n",
       "      <td>1</td>\n",
       "      <td>4</td>\n",
       "      <td>10</td>\n",
       "      <td>1</td>\n",
       "      <td>0</td>\n",
       "      <td>0</td>\n",
       "      <td>0</td>\n",
       "      <td>0</td>\n",
       "      <td>0</td>\n",
       "      <td>0</td>\n",
       "      <td>...</td>\n",
       "      <td>0</td>\n",
       "      <td>0</td>\n",
       "      <td>19.58</td>\n",
       "      <td>9.90</td>\n",
       "      <td>0.07</td>\n",
       "      <td>7.76</td>\n",
       "      <td>0.56</td>\n",
       "      <td>10.00</td>\n",
       "      <td>3</td>\n",
       "      <td>0</td>\n",
       "    </tr>\n",
       "    <tr>\n",
       "      <th>11</th>\n",
       "      <td>1</td>\n",
       "      <td>4</td>\n",
       "      <td>11</td>\n",
       "      <td>1</td>\n",
       "      <td>0</td>\n",
       "      <td>0</td>\n",
       "      <td>0</td>\n",
       "      <td>0</td>\n",
       "      <td>0</td>\n",
       "      <td>0</td>\n",
       "      <td>...</td>\n",
       "      <td>0</td>\n",
       "      <td>0</td>\n",
       "      <td>26.07</td>\n",
       "      <td>21.94</td>\n",
       "      <td>0.07</td>\n",
       "      <td>3.45</td>\n",
       "      <td>0.40</td>\n",
       "      <td>10.00</td>\n",
       "      <td>4</td>\n",
       "      <td>0</td>\n",
       "    </tr>\n",
       "  </tbody>\n",
       "</table>\n",
       "<p>5 rows × 49 columns</p>\n",
       "</div>"
      ],
      "text/plain": [
       "    Checkout_Month  Checkout_WeekDay  Checkout_Hour  month_1  month_2  \\\n",
       "0                1                 4              0        1        0   \n",
       "4                1                 4              4        1        0   \n",
       "9                1                 4              9        1        0   \n",
       "10               1                 4             10        1        0   \n",
       "11               1                 4             11        1        0   \n",
       "\n",
       "    month_3  month_4  month_5  month_6  month_7     ...       hour_22  \\\n",
       "0         0        0        0        0        0     ...             0   \n",
       "4         0        0        0        0        0     ...             0   \n",
       "9         0        0        0        0        0     ...             0   \n",
       "10        0        0        0        0        0     ...             0   \n",
       "11        0        0        0        0        0     ...             0   \n",
       "\n",
       "    hour_23  Temperature  Apparent_Temperature  Cloud_Cover  Wind_Speed  \\\n",
       "0         0         7.52                  0.65         0.01        3.50   \n",
       "4         0         5.37                 -2.51         0.00        3.90   \n",
       "9         0        14.37                  6.74         0.02        4.70   \n",
       "10        0        19.58                  9.90         0.07        7.76   \n",
       "11        0        26.07                 21.94         0.07        3.45   \n",
       "\n",
       "    Humidity  Visibility  Number_Of_Checkouts  Class_Label  \n",
       "0       0.83        7.75                    1            0  \n",
       "4       0.81        9.61                    1            0  \n",
       "9       0.65       10.00                    1            0  \n",
       "10      0.56       10.00                    3            0  \n",
       "11      0.40       10.00                    4            0  \n",
       "\n",
       "[5 rows x 49 columns]"
      ]
     },
     "execution_count": 34,
     "metadata": {},
     "output_type": "execute_result"
    }
   ],
   "source": [
    "data.head()"
   ]
  },
  {
   "cell_type": "code",
   "execution_count": 35,
   "metadata": {
    "collapsed": false
   },
   "outputs": [
    {
     "data": {
      "text/plain": [
       "Number_Of_Checkouts\n",
       "1      843\n",
       "2      529\n",
       "3      428\n",
       "4      339\n",
       "5      268\n",
       "6      257\n",
       "7      228\n",
       "8      235\n",
       "9      205\n",
       "10     200\n",
       "11     182\n",
       "12     208\n",
       "13     178\n",
       "14     176\n",
       "15     162\n",
       "16     144\n",
       "17     159\n",
       "18     157\n",
       "19     140\n",
       "20     132\n",
       "21     139\n",
       "22     125\n",
       "23     124\n",
       "24     124\n",
       "25     114\n",
       "26     113\n",
       "27      99\n",
       "28      72\n",
       "29      90\n",
       "30      73\n",
       "      ... \n",
       "40      31\n",
       "41      29\n",
       "42      30\n",
       "43      18\n",
       "44      28\n",
       "45      13\n",
       "46      18\n",
       "47      13\n",
       "48      12\n",
       "49      10\n",
       "50       9\n",
       "51      10\n",
       "52       7\n",
       "53       8\n",
       "54       7\n",
       "55       8\n",
       "56       5\n",
       "57       6\n",
       "58       1\n",
       "59       2\n",
       "60       3\n",
       "61       1\n",
       "62       1\n",
       "63       1\n",
       "66       1\n",
       "67       1\n",
       "68       2\n",
       "74       1\n",
       "76       1\n",
       "113      1\n",
       "dtype: int64"
      ]
     },
     "execution_count": 35,
     "metadata": {},
     "output_type": "execute_result"
    }
   ],
   "source": [
    "dd = data.groupby(data.Number_Of_Checkouts).size()\n",
    "dd"
   ]
  },
  {
   "cell_type": "code",
   "execution_count": 36,
   "metadata": {
    "collapsed": false
   },
   "outputs": [
    {
     "data": {
      "text/plain": [
       "Class_Label\n",
       "0    3532\n",
       "1    3524\n",
       "dtype: int64"
      ]
     },
     "execution_count": 36,
     "metadata": {},
     "output_type": "execute_result"
    }
   ],
   "source": [
    "dd = data.groupby(data.Class_Label).size()\n",
    "dd"
   ]
  },
  {
   "cell_type": "markdown",
   "metadata": {},
   "source": [
    "### Keep 10 samples aside for use in prediction on unseen samples"
   ]
  },
  {
   "cell_type": "code",
   "execution_count": 37,
   "metadata": {
    "collapsed": true
   },
   "outputs": [],
   "source": [
    "dUT = data.sample(n=10, random_state=123)"
   ]
  },
  {
   "cell_type": "code",
   "execution_count": 38,
   "metadata": {
    "collapsed": true
   },
   "outputs": [],
   "source": [
    "del_rows = dUT.index"
   ]
  },
  {
   "cell_type": "code",
   "execution_count": 39,
   "metadata": {
    "collapsed": true
   },
   "outputs": [],
   "source": [
    "data.drop(del_rows, axis=0, inplace=True)"
   ]
  },
  {
   "cell_type": "code",
   "execution_count": 40,
   "metadata": {
    "collapsed": false
   },
   "outputs": [
    {
     "name": "stdout",
     "output_type": "stream",
     "text": [
      "<class 'pandas.core.frame.DataFrame'>\n",
      "Int64Index: 7046 entries, 0 to 8758\n",
      "Data columns (total 49 columns):\n",
      "Checkout_Month          7046 non-null int32\n",
      "Checkout_WeekDay        7046 non-null int32\n",
      "Checkout_Hour           7046 non-null int64\n",
      "month_1                 7046 non-null uint8\n",
      "month_2                 7046 non-null uint8\n",
      "month_3                 7046 non-null uint8\n",
      "month_4                 7046 non-null uint8\n",
      "month_5                 7046 non-null uint8\n",
      "month_6                 7046 non-null uint8\n",
      "month_7                 7046 non-null uint8\n",
      "month_8                 7046 non-null uint8\n",
      "month_9                 7046 non-null uint8\n",
      "month_10                7046 non-null uint8\n",
      "month_11                7046 non-null uint8\n",
      "month_12                7046 non-null uint8\n",
      "weekday_0               7046 non-null uint8\n",
      "weekday_1               7046 non-null uint8\n",
      "weekday_2               7046 non-null uint8\n",
      "weekday_3               7046 non-null uint8\n",
      "weekday_4               7046 non-null uint8\n",
      "weekday_5               7046 non-null uint8\n",
      "weekday_6               7046 non-null uint8\n",
      "hour_5                  7046 non-null uint8\n",
      "hour_6                  7046 non-null uint8\n",
      "hour_7                  7046 non-null uint8\n",
      "hour_8                  7046 non-null uint8\n",
      "hour_9                  7046 non-null uint8\n",
      "hour_10                 7046 non-null uint8\n",
      "hour_11                 7046 non-null uint8\n",
      "hour_12                 7046 non-null uint8\n",
      "hour_13                 7046 non-null uint8\n",
      "hour_14                 7046 non-null uint8\n",
      "hour_15                 7046 non-null uint8\n",
      "hour_16                 7046 non-null uint8\n",
      "hour_17                 7046 non-null uint8\n",
      "hour_18                 7046 non-null uint8\n",
      "hour_19                 7046 non-null uint8\n",
      "hour_20                 7046 non-null uint8\n",
      "hour_21                 7046 non-null uint8\n",
      "hour_22                 7046 non-null uint8\n",
      "hour_23                 7046 non-null uint8\n",
      "Temperature             7046 non-null float64\n",
      "Apparent_Temperature    7046 non-null float64\n",
      "Cloud_Cover             7046 non-null float64\n",
      "Wind_Speed              7046 non-null float64\n",
      "Humidity                7046 non-null float64\n",
      "Visibility              7046 non-null float64\n",
      "Number_Of_Checkouts     7046 non-null int32\n",
      "Class_Label             7046 non-null int64\n",
      "dtypes: float64(6), int32(3), int64(2), uint8(38)\n",
      "memory usage: 839.5 KB\n"
     ]
    }
   ],
   "source": [
    "data.info()"
   ]
  },
  {
   "cell_type": "code",
   "execution_count": 41,
   "metadata": {
    "collapsed": false
   },
   "outputs": [],
   "source": [
    "data = data[['Checkout_Month', 'Checkout_WeekDay', 'Checkout_Hour',\n",
    "             'month_1', 'month_2', 'month_3', 'month_4', 'month_5', 'month_6', 'month_7', 'month_8',\n",
    "             'month_9', 'month_10', 'month_11', 'month_12',\n",
    "             'weekday_0', 'weekday_1', 'weekday_2', 'weekday_3', 'weekday_4', 'weekday_5', 'weekday_6',\n",
    "             'hour_5', 'hour_6', 'hour_7', 'hour_8', 'hour_9', 'hour_10', 'hour_11', 'hour_12', 'hour_13',\n",
    "             'hour_14', 'hour_15', 'hour_16', 'hour_17',\n",
    "             'hour_18', 'hour_19', 'hour_20', 'hour_21', 'hour_22', 'hour_23',\n",
    "             'Temperature', 'Apparent_Temperature', 'Cloud_Cover', 'Wind_Speed', 'Humidity', 'Visibility',\n",
    "             'Class_Label']]"
   ]
  },
  {
   "cell_type": "code",
   "execution_count": 42,
   "metadata": {
    "collapsed": false
   },
   "outputs": [],
   "source": [
    "array = data.values"
   ]
  },
  {
   "cell_type": "code",
   "execution_count": 43,
   "metadata": {
    "collapsed": false
   },
   "outputs": [
    {
     "data": {
      "text/plain": [
       "array([ 1.  ,  0.  ,  0.  ,  0.  ,  0.  ,  0.  ,  0.  ,  0.  ,  0.  ,\n",
       "        0.  ,  0.  ,  0.  ,  0.  ,  0.  ,  0.  ,  0.  ,  1.  ,  0.  ,\n",
       "        0.  ,  0.  ,  0.  ,  0.  ,  0.  ,  0.  ,  0.  ,  0.  ,  0.  ,\n",
       "        0.  ,  0.  ,  0.  ,  0.  ,  0.  ,  0.  ,  0.  ,  0.  ,  0.  ,\n",
       "        0.  ,  0.  ,  7.52,  0.65,  0.01,  3.5 ,  0.83,  7.75])"
      ]
     },
     "execution_count": 43,
     "metadata": {},
     "output_type": "execute_result"
    }
   ],
   "source": [
    "X = array[:,3:47]\n",
    "X[0]"
   ]
  },
  {
   "cell_type": "code",
   "execution_count": 44,
   "metadata": {
    "collapsed": false
   },
   "outputs": [
    {
     "data": {
      "text/plain": [
       "0.0"
      ]
     },
     "execution_count": 44,
     "metadata": {},
     "output_type": "execute_result"
    }
   ],
   "source": [
    "y = array[:,47]\n",
    "y[0]"
   ]
  },
  {
   "cell_type": "markdown",
   "metadata": {},
   "source": [
    "## Feature Correlations"
   ]
  },
  {
   "cell_type": "code",
   "execution_count": 45,
   "metadata": {
    "collapsed": false
   },
   "outputs": [
    {
     "data": {
      "image/png": "[encoded data removed]",
      "text/plain": [
       "<matplotlib.figure.Figure at 0x18b4c91d400>"
      ]
     },
     "metadata": {},
     "output_type": "display_data"
    }
   ],
   "source": [
    "plt.figure(figsize=(18,10))\n",
    "ax = sns.heatmap(data.corr())\n",
    "plt.title(\"Feature Correlations\", fontsize=18)\n",
    "plt.xticks(fontsize=14)\n",
    "plt.yticks(fontsize=14)\n",
    "plt.show()"
   ]
  },
  {
   "cell_type": "code",
   "execution_count": 46,
   "metadata": {
    "collapsed": false
   },
   "outputs": [],
   "source": [
    "features = ['month_1', 'month_2', 'month_3', 'month_4', 'month_5', 'month_6', 'month_7', 'month_8',\n",
    "             'month_9', 'month_10', 'month_11', 'month_12',\n",
    "             'weekday_0', 'weekday_1', 'weekday_2', 'weekday_3', 'weekday_4', 'weekday_5', 'weekday_6',\n",
    "             'hour_5', 'hour_6', 'hour_7', 'hour_8', 'hour_9', 'hour_10', 'hour_11', 'hour_12', 'hour_13',\n",
    "             'hour_14', 'hour_15', 'hour_16', 'hour_17',\n",
    "             'hour_18', 'hour_19', 'hour_20', 'hour_21', 'hour_22', 'hour_23',\n",
    "             'Temperature', 'Apparent_Temperature', 'Cloud_Cover', 'Wind_Speed', 'Humidity', 'Visibility']\n",
    "X = data[features]\n",
    "y = data[\"Class_Label\"]\n",
    "X_train, X_test, y_train, y_test = train_test_split(X, y, test_size=0.3, random_state=0, stratify=y)"
   ]
  },
  {
   "cell_type": "markdown",
   "metadata": {},
   "source": [
    "## 2. Modeling - Categorical Feature Set"
   ]
  },
  {
   "cell_type": "code",
   "execution_count": 47,
   "metadata": {
    "collapsed": false
   },
   "outputs": [],
   "source": [
    "def plot_feature_importances(model, plot_title):\n",
    "    n_features = X.shape[1]\n",
    "    plt.figure(figsize=(10,14))\n",
    "    feature_importance = model.feature_importances_\n",
    "    features_list = features\n",
    "    feature_importance, features_list = zip(*sorted(zip(feature_importance, features_list)))\n",
    "    plt.barh(range(len(features_list)), feature_importance, align='center')\n",
    "    plt.xticks(fontsize=14)\n",
    "    plt.yticks(np.arange(len(features_list)), features_list, fontsize=14)\n",
    "    plt.xlabel('Relative Importance', fontsize=16)\n",
    "    plt.ylabel('Feature', fontsize=16)\n",
    "    plt.title(plot_title + ' Features Importance', fontsize=20)\n",
    "    plt.show()"
   ]
  },
  {
   "cell_type": "code",
   "execution_count": 48,
   "metadata": {
    "collapsed": false
   },
   "outputs": [],
   "source": [
    "def get_class_metrics(model, actual, predicted):\n",
    "    class_metrics = {'Accuracy' : metrics.accuracy_score(actual, predicted),\n",
    "                         'F1 (macro)' : metrics.f1_score(actual, predicted, average='macro'),\n",
    "                         'F1 (micro)' : metrics.f1_score(actual, predicted, average='micro'),\n",
    "                         'Precision (macro)' : metrics.precision_score(actual, predicted,  average='macro'),\n",
    "                         'Precision (micro)' : metrics.precision_score(actual, predicted,  average='micro'),\n",
    "                         'Recall (macro)' : metrics.recall_score(actual, predicted,  average='macro'),\n",
    "                         'Recall (micro)' : metrics.recall_score(actual, predicted,  average='micro')}\n",
    "    dML_metrics = pd.DataFrame.from_dict(class_metrics, orient='index')\n",
    "    dML_metrics.columns = [model]\n",
    "    return dML_metrics"
   ]
  },
  {
   "cell_type": "code",
   "execution_count": 49,
   "metadata": {
    "collapsed": true
   },
   "outputs": [],
   "source": [
    "def perform_classification(model, clfr):   \n",
    " \n",
    "    clfr.fit(X_train, y_train)\n",
    "    ypred = clfr.predict(X_test)\n",
    "    got_metrics = get_class_metrics(model, y_test, ypred)\n",
    "    print(model,'\\n')\n",
    "    print(\"Accuracy on training set: {:.3f}\".format(clfr.score(X_train, y_train)))\n",
    "    print(\"Accuracy on test set: {:.3f}\".format(clfr.score(X_test, y_test)))\n",
    "    print('\\nConfusion Matrix:')\n",
    "    print(metrics.confusion_matrix(y_test, ypred))\n",
    "    print('\\nClassification Report:')\n",
    "    print(metrics.classification_report(y_test, ypred))\n",
    "    return got_metrics"
   ]
  },
  {
   "cell_type": "code",
   "execution_count": 50,
   "metadata": {
    "collapsed": false
   },
   "outputs": [],
   "source": [
    "from sklearn.model_selection import StratifiedShuffleSplit\n",
    "def perform_cross_validation(model, clfr):\n",
    "    shuffle_split = StratifiedShuffleSplit(test_size=.5, train_size=.5, n_splits=5)\n",
    "    scores = cross_val_score(clfr, X, y, cv=shuffle_split)\n",
    "    print(\"Cross-validation scores:\\n{}\".format(scores))\n",
    "    print(\"Cross-validation accuracy: %0.2f (+/- %0.2f)\" % (scores.mean(), scores.std() * 2) + \" @ 95% CI\")\n",
    "    #print(\"Cross-validation scores mean: {:.3f}\".format(scores.mean()))\n",
    "    xv_metrics = {'Cross Validation' : scores.mean()}\n",
    "    dXV_metrics = pd.DataFrame.from_dict(xv_metrics, orient='index')\n",
    "    dXV_metrics.columns = [model]\n",
    "    return dXV_metrics"
   ]
  },
  {
   "cell_type": "code",
   "execution_count": 51,
   "metadata": {
    "collapsed": true
   },
   "outputs": [],
   "source": [
    "def get_execution_time_metrics(model, et):\n",
    "    et_metrics = {'Execution Time (sec)' : et}\n",
    "    dET_metrics = pd.DataFrame.from_dict(et_metrics, orient='index')\n",
    "    dET_metrics.columns = [model]\n",
    "    return dET_metrics"
   ]
  },
  {
   "cell_type": "markdown",
   "metadata": {},
   "source": [
    "#### Decision Tree Classification"
   ]
  },
  {
   "cell_type": "code",
   "execution_count": 52,
   "metadata": {
    "collapsed": false
   },
   "outputs": [
    {
     "name": "stdout",
     "output_type": "stream",
     "text": [
      "Decision Tree Classification \n",
      "\n",
      "Accuracy on training set: 1.000\n",
      "Accuracy on test set: 0.811\n",
      "\n",
      "Confusion Matrix:\n",
      "[[867 191]\n",
      " [208 848]]\n",
      "\n",
      "Classification Report:\n",
      "             precision    recall  f1-score   support\n",
      "\n",
      "          0       0.81      0.82      0.81      1058\n",
      "          1       0.82      0.80      0.81      1056\n",
      "\n",
      "avg / total       0.81      0.81      0.81      2114\n",
      "\n",
      "Cross-validation scores:\n",
      "[ 0.79534488  0.8030088   0.79165484  0.81464661  0.81663355]\n",
      "Cross-validation accuracy: 0.80 (+/- 0.02) @ 95% CI\n",
      "\n",
      "Execution Time (sec): 0.317\n"
     ]
    },
    {
     "data": {
      "image/png": "[encoded data removed]",
      "text/plain": [
       "<matplotlib.figure.Figure at 0x18b4d65d358>"
      ]
     },
     "metadata": {},
     "output_type": "display_data"
    },
    {
     "data": {
      "text/html": [
       "<div>\n",
       "<table border=\"1\" class=\"dataframe\">\n",
       "  <thead>\n",
       "    <tr style=\"text-align: right;\">\n",
       "      <th></th>\n",
       "      <th>Decision Tree Classification</th>\n",
       "    </tr>\n",
       "  </thead>\n",
       "  <tbody>\n",
       "    <tr>\n",
       "      <th>Accuracy</th>\n",
       "      <td>0.811258</td>\n",
       "    </tr>\n",
       "    <tr>\n",
       "      <th>F1 (macro)</th>\n",
       "      <td>0.811243</td>\n",
       "    </tr>\n",
       "    <tr>\n",
       "      <th>F1 (micro)</th>\n",
       "      <td>0.811258</td>\n",
       "    </tr>\n",
       "    <tr>\n",
       "      <th>Precision (macro)</th>\n",
       "      <td>0.811341</td>\n",
       "    </tr>\n",
       "    <tr>\n",
       "      <th>Precision (micro)</th>\n",
       "      <td>0.811258</td>\n",
       "    </tr>\n",
       "    <tr>\n",
       "      <th>Recall (macro)</th>\n",
       "      <td>0.811251</td>\n",
       "    </tr>\n",
       "    <tr>\n",
       "      <th>Recall (micro)</th>\n",
       "      <td>0.811258</td>\n",
       "    </tr>\n",
       "  </tbody>\n",
       "</table>\n",
       "</div>"
      ],
      "text/plain": [
       "                   Decision Tree Classification\n",
       "Accuracy                               0.811258\n",
       "F1 (macro)                             0.811243\n",
       "F1 (micro)                             0.811258\n",
       "Precision (macro)                      0.811341\n",
       "Precision (micro)                      0.811258\n",
       "Recall (macro)                         0.811251\n",
       "Recall (micro)                         0.811258"
      ]
     },
     "execution_count": 52,
     "metadata": {},
     "output_type": "execute_result"
    }
   ],
   "source": [
    "# Decision Tree Classifier\n",
    "class_model = 'Decision Tree Classification'\n",
    "start = timer()\n",
    "clf = DecisionTreeClassifier(random_state=0)\n",
    "dtc = perform_classification(class_model, clf)\n",
    "dtc_xv = perform_cross_validation(class_model, clf)\n",
    "end = timer()\n",
    "et = end - start\n",
    "print(\"\\nExecution Time (sec): {:.3f}\".format(et))\n",
    "dtc_et = get_execution_time_metrics(class_model, et)\n",
    "plot_feature_importances(clf, class_model)\n",
    "dtc.sort_index()"
   ]
  },
  {
   "cell_type": "markdown",
   "metadata": {},
   "source": [
    "#### Linear (Logistic) Classification"
   ]
  },
  {
   "cell_type": "code",
   "execution_count": 53,
   "metadata": {
    "collapsed": false
   },
   "outputs": [
    {
     "name": "stdout",
     "output_type": "stream",
     "text": [
      "Logistic Classification \n",
      "\n",
      "Accuracy on training set: 0.868\n",
      "Accuracy on test set: 0.877\n",
      "\n",
      "Confusion Matrix:\n",
      "[[924 134]\n",
      " [126 930]]\n",
      "\n",
      "Classification Report:\n",
      "             precision    recall  f1-score   support\n",
      "\n",
      "          0       0.88      0.87      0.88      1058\n",
      "          1       0.87      0.88      0.88      1056\n",
      "\n",
      "avg / total       0.88      0.88      0.88      2114\n",
      "\n",
      "Cross-validation scores:\n",
      "[ 0.85126313  0.86176554  0.85353392  0.86829407  0.85835935]\n",
      "Cross-validation accuracy: 0.86 (+/- 0.01) @ 95% CI\n",
      "\n",
      "Execution Time (sec): 10.792\n"
     ]
    },
    {
     "data": {
      "text/html": [
       "<div>\n",
       "<table border=\"1\" class=\"dataframe\">\n",
       "  <thead>\n",
       "    <tr style=\"text-align: right;\">\n",
       "      <th></th>\n",
       "      <th>Logistic Classification</th>\n",
       "    </tr>\n",
       "  </thead>\n",
       "  <tbody>\n",
       "    <tr>\n",
       "      <th>Accuracy</th>\n",
       "      <td>0.877010</td>\n",
       "    </tr>\n",
       "    <tr>\n",
       "      <th>F1 (macro)</th>\n",
       "      <td>0.877009</td>\n",
       "    </tr>\n",
       "    <tr>\n",
       "      <th>F1 (micro)</th>\n",
       "      <td>0.877010</td>\n",
       "    </tr>\n",
       "    <tr>\n",
       "      <th>Precision (macro)</th>\n",
       "      <td>0.877030</td>\n",
       "    </tr>\n",
       "    <tr>\n",
       "      <th>Precision (micro)</th>\n",
       "      <td>0.877010</td>\n",
       "    </tr>\n",
       "    <tr>\n",
       "      <th>Recall (macro)</th>\n",
       "      <td>0.877014</td>\n",
       "    </tr>\n",
       "    <tr>\n",
       "      <th>Recall (micro)</th>\n",
       "      <td>0.877010</td>\n",
       "    </tr>\n",
       "  </tbody>\n",
       "</table>\n",
       "</div>"
      ],
      "text/plain": [
       "                   Logistic Classification\n",
       "Accuracy                          0.877010\n",
       "F1 (macro)                        0.877009\n",
       "F1 (micro)                        0.877010\n",
       "Precision (macro)                 0.877030\n",
       "Precision (micro)                 0.877010\n",
       "Recall (macro)                    0.877014\n",
       "Recall (micro)                    0.877010"
      ]
     },
     "execution_count": 53,
     "metadata": {},
     "output_type": "execute_result"
    }
   ],
   "source": [
    "# logistic regression\n",
    "class_model = 'Logistic Classification'\n",
    "start = timer()\n",
    "#clf = linear_model.LogisticRegression(random_state=0)\n",
    "clf = linear_model.LogisticRegression(C=1.0, solver='lbfgs', random_state=0, multi_class='ovr', n_jobs=-1)\n",
    "lin_reg = perform_classification(class_model, clf)\n",
    "lin_reg_xv = perform_cross_validation(class_model, clf)\n",
    "end = timer()\n",
    "et = end - start\n",
    "print(\"\\nExecution Time (sec): {:.3f}\".format((end - start)))\n",
    "lin_reg_et = get_execution_time_metrics(class_model, et)\n",
    "lin_reg.sort_index()"
   ]
  },
  {
   "cell_type": "markdown",
   "metadata": {},
   "source": [
    "#### Random Forest Classification"
   ]
  },
  {
   "cell_type": "code",
   "execution_count": 54,
   "metadata": {
    "collapsed": false
   },
   "outputs": [
    {
     "name": "stdout",
     "output_type": "stream",
     "text": [
      "Random Forest Classification \n",
      "\n",
      "Accuracy on training set: 1.000\n",
      "Accuracy on test set: 0.856\n",
      "\n",
      "Confusion Matrix:\n",
      "[[934 124]\n",
      " [180 876]]\n",
      "\n",
      "Classification Report:\n",
      "             precision    recall  f1-score   support\n",
      "\n",
      "          0       0.84      0.88      0.86      1058\n",
      "          1       0.88      0.83      0.85      1056\n",
      "\n",
      "avg / total       0.86      0.86      0.86      2114\n",
      "\n",
      "Cross-validation scores:\n",
      "[ 0.85750781  0.85949475  0.84984388  0.85211467  0.86176554]\n",
      "Cross-validation accuracy: 0.86 (+/- 0.01) @ 95% CI\n",
      "\n",
      "Execution Time (sec): 4.023\n"
     ]
    },
    {
     "data": {
      "image/png": "[encoded data removed]",
      "text/plain": [
       "<matplotlib.figure.Figure at 0x18b4cd7ac88>"
      ]
     },
     "metadata": {},
     "output_type": "display_data"
    },
    {
     "data": {
      "text/html": [
       "<div>\n",
       "<table border=\"1\" class=\"dataframe\">\n",
       "  <thead>\n",
       "    <tr style=\"text-align: right;\">\n",
       "      <th></th>\n",
       "      <th>Random Forest Classification</th>\n",
       "    </tr>\n",
       "  </thead>\n",
       "  <tbody>\n",
       "    <tr>\n",
       "      <th>Accuracy</th>\n",
       "      <td>0.856197</td>\n",
       "    </tr>\n",
       "    <tr>\n",
       "      <th>F1 (macro)</th>\n",
       "      <td>0.856088</td>\n",
       "    </tr>\n",
       "    <tr>\n",
       "      <th>F1 (micro)</th>\n",
       "      <td>0.856197</td>\n",
       "    </tr>\n",
       "    <tr>\n",
       "      <th>Precision (macro)</th>\n",
       "      <td>0.857210</td>\n",
       "    </tr>\n",
       "    <tr>\n",
       "      <th>Precision (micro)</th>\n",
       "      <td>0.856197</td>\n",
       "    </tr>\n",
       "    <tr>\n",
       "      <th>Recall (macro)</th>\n",
       "      <td>0.856172</td>\n",
       "    </tr>\n",
       "    <tr>\n",
       "      <th>Recall (micro)</th>\n",
       "      <td>0.856197</td>\n",
       "    </tr>\n",
       "  </tbody>\n",
       "</table>\n",
       "</div>"
      ],
      "text/plain": [
       "                   Random Forest Classification\n",
       "Accuracy                               0.856197\n",
       "F1 (macro)                             0.856088\n",
       "F1 (micro)                             0.856197\n",
       "Precision (macro)                      0.857210\n",
       "Precision (micro)                      0.856197\n",
       "Recall (macro)                         0.856172\n",
       "Recall (micro)                         0.856197"
      ]
     },
     "execution_count": 54,
     "metadata": {},
     "output_type": "execute_result"
    }
   ],
   "source": [
    "# Random Forest Classifier\n",
    "class_model = 'Random Forest Classification'\n",
    "start = timer() \n",
    "clf = RandomForestClassifier(n_estimators=150, max_features='auto', max_depth=None, random_state=0, n_jobs=-1)\n",
    "rfc = perform_classification(class_model, clf)\n",
    "rfc_xv = perform_cross_validation(class_model, clf)\n",
    "end = timer()\n",
    "et = end - start\n",
    "print(\"\\nExecution Time (sec): {:.3f}\".format((end - start)))\n",
    "rfc_et = get_execution_time_metrics(class_model, et)\n",
    "plot_feature_importances(clf, class_model)\n",
    "rfc.sort_index()"
   ]
  },
  {
   "cell_type": "markdown",
   "metadata": {},
   "source": [
    "#### Extra Trees Classification"
   ]
  },
  {
   "cell_type": "code",
   "execution_count": 55,
   "metadata": {
    "collapsed": false
   },
   "outputs": [
    {
     "name": "stdout",
     "output_type": "stream",
     "text": [
      "Extra Trees Classification \n",
      "\n",
      "Accuracy on training set: 1.000\n",
      "Accuracy on test set: 0.877\n",
      "\n",
      "Confusion Matrix:\n",
      "[[945 113]\n",
      " [147 909]]\n",
      "\n",
      "Classification Report:\n",
      "             precision    recall  f1-score   support\n",
      "\n",
      "          0       0.87      0.89      0.88      1058\n",
      "          1       0.89      0.86      0.87      1056\n",
      "\n",
      "avg / total       0.88      0.88      0.88      2114\n",
      "\n",
      "Cross-validation scores:\n",
      "[ 0.87226795  0.86488788  0.86545558  0.86801022  0.86460403]\n",
      "Cross-validation accuracy: 0.87 (+/- 0.01) @ 95% CI\n",
      "\n",
      "Execution Time (sec): 3.426\n"
     ]
    },
    {
     "data": {
      "image/png": "[encoded data removed]",
      "text/plain": [
       "<matplotlib.figure.Figure at 0x18b4cd22860>"
      ]
     },
     "metadata": {},
     "output_type": "display_data"
    },
    {
     "data": {
      "text/html": [
       "<div>\n",
       "<table border=\"1\" class=\"dataframe\">\n",
       "  <thead>\n",
       "    <tr style=\"text-align: right;\">\n",
       "      <th></th>\n",
       "      <th>Extra Trees Classification</th>\n",
       "    </tr>\n",
       "  </thead>\n",
       "  <tbody>\n",
       "    <tr>\n",
       "      <th>Accuracy</th>\n",
       "      <td>0.877010</td>\n",
       "    </tr>\n",
       "    <tr>\n",
       "      <th>F1 (macro)</th>\n",
       "      <td>0.876975</td>\n",
       "    </tr>\n",
       "    <tr>\n",
       "      <th>F1 (micro)</th>\n",
       "      <td>0.877010</td>\n",
       "    </tr>\n",
       "    <tr>\n",
       "      <th>Precision (macro)</th>\n",
       "      <td>0.877409</td>\n",
       "    </tr>\n",
       "    <tr>\n",
       "      <th>Precision (micro)</th>\n",
       "      <td>0.877010</td>\n",
       "    </tr>\n",
       "    <tr>\n",
       "      <th>Recall (macro)</th>\n",
       "      <td>0.876995</td>\n",
       "    </tr>\n",
       "    <tr>\n",
       "      <th>Recall (micro)</th>\n",
       "      <td>0.877010</td>\n",
       "    </tr>\n",
       "  </tbody>\n",
       "</table>\n",
       "</div>"
      ],
      "text/plain": [
       "                   Extra Trees Classification\n",
       "Accuracy                             0.877010\n",
       "F1 (macro)                           0.876975\n",
       "F1 (micro)                           0.877010\n",
       "Precision (macro)                    0.877409\n",
       "Precision (micro)                    0.877010\n",
       "Recall (macro)                       0.876995\n",
       "Recall (micro)                       0.877010"
      ]
     },
     "execution_count": 55,
     "metadata": {},
     "output_type": "execute_result"
    }
   ],
   "source": [
    "# Extra Trees Classifier\n",
    "class_model = 'Extra Trees Classification'\n",
    "start = timer() \n",
    "clf = ExtraTreesClassifier(n_estimators=150, max_features='auto', max_depth=None, random_state=0, n_jobs=-1)\n",
    "etc = perform_classification(class_model, clf)\n",
    "etc_xv = perform_cross_validation(class_model, clf)\n",
    "end = timer()\n",
    "et = end - start\n",
    "print(\"\\nExecution Time (sec): {:.3f}\".format((end - start)))\n",
    "etc_et = get_execution_time_metrics(class_model, et)\n",
    "plot_feature_importances(clf, class_model)\n",
    "etc.sort_index()"
   ]
  },
  {
   "cell_type": "markdown",
   "metadata": {},
   "source": [
    "#### Naive Bayes Classification"
   ]
  },
  {
   "cell_type": "code",
   "execution_count": 56,
   "metadata": {
    "collapsed": false
   },
   "outputs": [
    {
     "name": "stdout",
     "output_type": "stream",
     "text": [
      "Naive Bayes Classification \n",
      "\n",
      "Accuracy on training set: 0.750\n",
      "Accuracy on test set: 0.756\n",
      "\n",
      "Confusion Matrix:\n",
      "[[ 599  459]\n",
      " [  56 1000]]\n",
      "\n",
      "Classification Report:\n",
      "             precision    recall  f1-score   support\n",
      "\n",
      "          0       0.91      0.57      0.70      1058\n",
      "          1       0.69      0.95      0.80      1056\n",
      "\n",
      "avg / total       0.80      0.76      0.75      2114\n",
      "\n",
      "Cross-validation scores:\n",
      "[ 0.75134828  0.75276753  0.72267953  0.76270224  0.71331252]\n",
      "Cross-validation accuracy: 0.74 (+/- 0.04) @ 95% CI\n",
      "\n",
      "Execution Time (sec): 0.175\n"
     ]
    },
    {
     "data": {
      "text/html": [
       "<div>\n",
       "<table border=\"1\" class=\"dataframe\">\n",
       "  <thead>\n",
       "    <tr style=\"text-align: right;\">\n",
       "      <th></th>\n",
       "      <th>Naive Bayes Classification</th>\n",
       "    </tr>\n",
       "  </thead>\n",
       "  <tbody>\n",
       "    <tr>\n",
       "      <th>Accuracy</th>\n",
       "      <td>0.756386</td>\n",
       "    </tr>\n",
       "    <tr>\n",
       "      <th>F1 (macro)</th>\n",
       "      <td>0.747293</td>\n",
       "    </tr>\n",
       "    <tr>\n",
       "      <th>F1 (micro)</th>\n",
       "      <td>0.756386</td>\n",
       "    </tr>\n",
       "    <tr>\n",
       "      <th>Precision (macro)</th>\n",
       "      <td>0.799952</td>\n",
       "    </tr>\n",
       "    <tr>\n",
       "      <th>Precision (micro)</th>\n",
       "      <td>0.756386</td>\n",
       "    </tr>\n",
       "    <tr>\n",
       "      <th>Recall (macro)</th>\n",
       "      <td>0.756566</td>\n",
       "    </tr>\n",
       "    <tr>\n",
       "      <th>Recall (micro)</th>\n",
       "      <td>0.756386</td>\n",
       "    </tr>\n",
       "  </tbody>\n",
       "</table>\n",
       "</div>"
      ],
      "text/plain": [
       "                   Naive Bayes Classification\n",
       "Accuracy                             0.756386\n",
       "F1 (macro)                           0.747293\n",
       "F1 (micro)                           0.756386\n",
       "Precision (macro)                    0.799952\n",
       "Precision (micro)                    0.756386\n",
       "Recall (macro)                       0.756566\n",
       "Recall (micro)                       0.756386"
      ]
     },
     "execution_count": 56,
     "metadata": {},
     "output_type": "execute_result"
    }
   ],
   "source": [
    "# Naive Bayes Classifier\n",
    "class_model = 'Naive Bayes Classification'\n",
    "start = timer()\n",
    "clf = naive_bayes.GaussianNB()\n",
    "nbg = perform_classification(class_model, clf)\n",
    "nbg_xv = perform_cross_validation(class_model, clf)\n",
    "end = timer()\n",
    "et = end - start\n",
    "print(\"\\nExecution Time (sec): {:.3f}\".format((end - start)))\n",
    "nbg_et = get_execution_time_metrics(class_model, et)\n",
    "nbg.sort_index()"
   ]
  },
  {
   "cell_type": "markdown",
   "metadata": {},
   "source": [
    "#### Nearest Neighbors Classification"
   ]
  },
  {
   "cell_type": "code",
   "execution_count": 57,
   "metadata": {
    "collapsed": false
   },
   "outputs": [
    {
     "name": "stdout",
     "output_type": "stream",
     "text": [
      "Nearest Neighbors Classification \n",
      "\n",
      "Accuracy on training set: 0.855\n",
      "Accuracy on test set: 0.714\n",
      "\n",
      "Confusion Matrix:\n",
      "[[960  98]\n",
      " [506 550]]\n",
      "\n",
      "Classification Report:\n",
      "             precision    recall  f1-score   support\n",
      "\n",
      "          0       0.65      0.91      0.76      1058\n",
      "          1       0.85      0.52      0.65      1056\n",
      "\n",
      "avg / total       0.75      0.71      0.70      2114\n",
      "\n",
      "Cross-validation scores:\n",
      "[ 0.72551802  0.70877093  0.72381493  0.72920806  0.72211184]\n",
      "Cross-validation accuracy: 0.72 (+/- 0.01) @ 95% CI\n",
      "\n",
      "Execution Time (sec): 0.995\n"
     ]
    },
    {
     "data": {
      "text/html": [
       "<div>\n",
       "<table border=\"1\" class=\"dataframe\">\n",
       "  <thead>\n",
       "    <tr style=\"text-align: right;\">\n",
       "      <th></th>\n",
       "      <th>Nearest Neighbors Classification</th>\n",
       "    </tr>\n",
       "  </thead>\n",
       "  <tbody>\n",
       "    <tr>\n",
       "      <th>Accuracy</th>\n",
       "      <td>0.714286</td>\n",
       "    </tr>\n",
       "    <tr>\n",
       "      <th>F1 (macro)</th>\n",
       "      <td>0.703119</td>\n",
       "    </tr>\n",
       "    <tr>\n",
       "      <th>F1 (micro)</th>\n",
       "      <td>0.714286</td>\n",
       "    </tr>\n",
       "    <tr>\n",
       "      <th>Precision (macro)</th>\n",
       "      <td>0.751804</td>\n",
       "    </tr>\n",
       "    <tr>\n",
       "      <th>Precision (micro)</th>\n",
       "      <td>0.714286</td>\n",
       "    </tr>\n",
       "    <tr>\n",
       "      <th>Recall (macro)</th>\n",
       "      <td>0.714103</td>\n",
       "    </tr>\n",
       "    <tr>\n",
       "      <th>Recall (micro)</th>\n",
       "      <td>0.714286</td>\n",
       "    </tr>\n",
       "  </tbody>\n",
       "</table>\n",
       "</div>"
      ],
      "text/plain": [
       "                   Nearest Neighbors Classification\n",
       "Accuracy                                   0.714286\n",
       "F1 (macro)                                 0.703119\n",
       "F1 (micro)                                 0.714286\n",
       "Precision (macro)                          0.751804\n",
       "Precision (micro)                          0.714286\n",
       "Recall (macro)                             0.714103\n",
       "Recall (micro)                             0.714286"
      ]
     },
     "execution_count": 57,
     "metadata": {},
     "output_type": "execute_result"
    }
   ],
   "source": [
    "# Nearest Neighbors Classifier\n",
    "class_model = 'Nearest Neighbors Classification'\n",
    "start = timer()\n",
    "clf = KNeighborsClassifier(n_neighbors=2, n_jobs=-1)\n",
    "knn = perform_classification(class_model, clf)\n",
    "knn_xv = perform_cross_validation(class_model, clf)\n",
    "end = timer()\n",
    "et = end - start\n",
    "print(\"\\nExecution Time (sec): {:.3f}\".format((end - start)))\n",
    "knn_et = get_execution_time_metrics(class_model, et)\n",
    "knn.sort_index()"
   ]
  },
  {
   "cell_type": "markdown",
   "metadata": {},
   "source": [
    "#### Gradient Boosting Classification"
   ]
  },
  {
   "cell_type": "code",
   "execution_count": 58,
   "metadata": {
    "collapsed": false
   },
   "outputs": [
    {
     "name": "stdout",
     "output_type": "stream",
     "text": [
      "Gradient Boosting Classification \n",
      "\n",
      "Accuracy on training set: 1.000\n",
      "Accuracy on test set: 0.817\n",
      "\n",
      "Confusion Matrix:\n",
      "[[875 183]\n",
      " [203 853]]\n",
      "\n",
      "Classification Report:\n",
      "             precision    recall  f1-score   support\n",
      "\n",
      "          0       0.81      0.83      0.82      1058\n",
      "          1       0.82      0.81      0.82      1056\n",
      "\n",
      "avg / total       0.82      0.82      0.82      2114\n",
      "\n",
      "Cross-validation scores:\n",
      "[ 0.80215725  0.8024411   0.79023559  0.79931876  0.8024411 ]\n",
      "Cross-validation accuracy: 0.80 (+/- 0.01) @ 95% CI\n",
      "\n",
      "Execution Time (sec): 48.096\n"
     ]
    },
    {
     "data": {
      "image/png": "[encoded data removed]",
      "text/plain": [
       "<matplotlib.figure.Figure at 0x18b4dc62ac8>"
      ]
     },
     "metadata": {},
     "output_type": "display_data"
    },
    {
     "data": {
      "text/html": [
       "<div>\n",
       "<table border=\"1\" class=\"dataframe\">\n",
       "  <thead>\n",
       "    <tr style=\"text-align: right;\">\n",
       "      <th></th>\n",
       "      <th>Gradient Boosting Classification</th>\n",
       "    </tr>\n",
       "  </thead>\n",
       "  <tbody>\n",
       "    <tr>\n",
       "      <th>Accuracy</th>\n",
       "      <td>0.817408</td>\n",
       "    </tr>\n",
       "    <tr>\n",
       "      <th>F1 (macro)</th>\n",
       "      <td>0.817388</td>\n",
       "    </tr>\n",
       "    <tr>\n",
       "      <th>F1 (micro)</th>\n",
       "      <td>0.817408</td>\n",
       "    </tr>\n",
       "    <tr>\n",
       "      <th>Precision (macro)</th>\n",
       "      <td>0.817524</td>\n",
       "    </tr>\n",
       "    <tr>\n",
       "      <th>Precision (micro)</th>\n",
       "      <td>0.817408</td>\n",
       "    </tr>\n",
       "    <tr>\n",
       "      <th>Recall (macro)</th>\n",
       "      <td>0.817399</td>\n",
       "    </tr>\n",
       "    <tr>\n",
       "      <th>Recall (micro)</th>\n",
       "      <td>0.817408</td>\n",
       "    </tr>\n",
       "  </tbody>\n",
       "</table>\n",
       "</div>"
      ],
      "text/plain": [
       "                   Gradient Boosting Classification\n",
       "Accuracy                                   0.817408\n",
       "F1 (macro)                                 0.817388\n",
       "F1 (micro)                                 0.817408\n",
       "Precision (macro)                          0.817524\n",
       "Precision (micro)                          0.817408\n",
       "Recall (macro)                             0.817399\n",
       "Recall (micro)                             0.817408"
      ]
     },
     "execution_count": 58,
     "metadata": {},
     "output_type": "execute_result"
    }
   ],
   "source": [
    "# Gradient Boosting Classifier\n",
    "class_model = 'Gradient Boosting Classification'\n",
    "#clf = GradientBoostingClassifier()\n",
    "start = timer()\n",
    "clf = GradientBoostingClassifier(n_estimators=150, max_features='auto', max_depth=None, random_state=0)\n",
    "gbc = perform_classification(class_model, clf)\n",
    "gbc_xv = perform_cross_validation(class_model, clf)\n",
    "end = timer()\n",
    "et = end - start\n",
    "print(\"\\nExecution Time (sec): {:.3f}\".format((end - start)))\n",
    "gbc_et = get_execution_time_metrics(class_model, et)\n",
    "plot_feature_importances(clf, class_model)\n",
    "gbc.sort_index()"
   ]
  },
  {
   "cell_type": "markdown",
   "metadata": {},
   "source": [
    "#### Multi-layer Perceptron Classification"
   ]
  },
  {
   "cell_type": "code",
   "execution_count": 59,
   "metadata": {
    "collapsed": false
   },
   "outputs": [
    {
     "name": "stdout",
     "output_type": "stream",
     "text": [
      "Multi-Layer Perception Classification \n",
      "\n",
      "Accuracy on training set: 0.869\n",
      "Accuracy on test set: 0.876\n",
      "\n",
      "Confusion Matrix:\n",
      "[[943 115]\n",
      " [148 908]]\n",
      "\n",
      "Classification Report:\n",
      "             precision    recall  f1-score   support\n",
      "\n",
      "          0       0.86      0.89      0.88      1058\n",
      "          1       0.89      0.86      0.87      1056\n",
      "\n",
      "avg / total       0.88      0.88      0.88      2114\n",
      "\n",
      "Cross-validation scores:\n",
      "[ 0.87028101  0.87397105  0.86971331  0.86290094  0.87482259]\n",
      "Cross-validation accuracy: 0.87 (+/- 0.01) @ 95% CI\n",
      "\n",
      "Execution Time (sec): 9.781\n"
     ]
    },
    {
     "data": {
      "text/html": [
       "<div>\n",
       "<table border=\"1\" class=\"dataframe\">\n",
       "  <thead>\n",
       "    <tr style=\"text-align: right;\">\n",
       "      <th></th>\n",
       "      <th>Multi-Layer Perception Classification</th>\n",
       "    </tr>\n",
       "  </thead>\n",
       "  <tbody>\n",
       "    <tr>\n",
       "      <th>Accuracy</th>\n",
       "      <td>0.875591</td>\n",
       "    </tr>\n",
       "    <tr>\n",
       "      <th>F1 (macro)</th>\n",
       "      <td>0.875557</td>\n",
       "    </tr>\n",
       "    <tr>\n",
       "      <th>F1 (micro)</th>\n",
       "      <td>0.875591</td>\n",
       "    </tr>\n",
       "    <tr>\n",
       "      <th>Precision (macro)</th>\n",
       "      <td>0.875965</td>\n",
       "    </tr>\n",
       "    <tr>\n",
       "      <th>Precision (micro)</th>\n",
       "      <td>0.875591</td>\n",
       "    </tr>\n",
       "    <tr>\n",
       "      <th>Recall (macro)</th>\n",
       "      <td>0.875576</td>\n",
       "    </tr>\n",
       "    <tr>\n",
       "      <th>Recall (micro)</th>\n",
       "      <td>0.875591</td>\n",
       "    </tr>\n",
       "  </tbody>\n",
       "</table>\n",
       "</div>"
      ],
      "text/plain": [
       "                   Multi-Layer Perception Classification\n",
       "Accuracy                                        0.875591\n",
       "F1 (macro)                                      0.875557\n",
       "F1 (micro)                                      0.875591\n",
       "Precision (macro)                               0.875965\n",
       "Precision (micro)                               0.875591\n",
       "Recall (macro)                                  0.875576\n",
       "Recall (micro)                                  0.875591"
      ]
     },
     "execution_count": 59,
     "metadata": {},
     "output_type": "execute_result"
    }
   ],
   "source": [
    "# Multi-Layer Perceptron Classification\n",
    "class_model = 'Multi-Layer Perception Classification'\n",
    "start = timer()\n",
    "clf = MLPClassifier(random_state=0)\n",
    "mlp = perform_classification(class_model, clf)\n",
    "mlp_xv = perform_cross_validation(class_model, clf)\n",
    "end = timer()\n",
    "et = end - start\n",
    "print(\"\\nExecution Time (sec): {:.3f}\".format((end - start)))\n",
    "mlp_et = get_execution_time_metrics(class_model, et)\n",
    "mlp.sort_index()"
   ]
  },
  {
   "cell_type": "markdown",
   "metadata": {},
   "source": [
    "## Classification Summary with Categorical Feature Set"
   ]
  },
  {
   "cell_type": "code",
   "execution_count": 60,
   "metadata": {
    "collapsed": false,
    "scrolled": true
   },
   "outputs": [],
   "source": [
    "class_metrics = pd.concat([lin_reg, dtc, rfc, etc, nbg, knn, gbc, mlp] , axis=1)"
   ]
  },
  {
   "cell_type": "code",
   "execution_count": 61,
   "metadata": {
    "collapsed": false
   },
   "outputs": [],
   "source": [
    "xv_metrics = pd.concat([lin_reg_xv, dtc_xv, rfc_xv, etc_xv, nbg_xv, knn_xv, gbc_xv, mlp_xv], axis = 1)"
   ]
  },
  {
   "cell_type": "code",
   "execution_count": 62,
   "metadata": {
    "collapsed": false
   },
   "outputs": [],
   "source": [
    "et_metrics = pd.concat([lin_reg_et, dtc_et, rfc_et, etc_et, nbg_et, knn_et, gbc_et, mlp_et], axis = 1)"
   ]
  },
  {
   "cell_type": "code",
   "execution_count": 63,
   "metadata": {
    "collapsed": false
   },
   "outputs": [
    {
     "name": "stdout",
     "output_type": "stream",
     "text": [
      "Classification Summary with Categorical Features\n",
      "\n"
     ]
    },
    {
     "data": {
      "text/html": [
       "<div>\n",
       "<table border=\"1\" class=\"dataframe\">\n",
       "  <thead>\n",
       "    <tr style=\"text-align: right;\">\n",
       "      <th></th>\n",
       "      <th>Logistic Classification</th>\n",
       "      <th>Decision Tree Classification</th>\n",
       "      <th>Random Forest Classification</th>\n",
       "      <th>Extra Trees Classification</th>\n",
       "      <th>Naive Bayes Classification</th>\n",
       "      <th>Nearest Neighbors Classification</th>\n",
       "      <th>Gradient Boosting Classification</th>\n",
       "      <th>Multi-Layer Perception Classification</th>\n",
       "    </tr>\n",
       "  </thead>\n",
       "  <tbody>\n",
       "    <tr>\n",
       "      <th>Accuracy</th>\n",
       "      <td>0.877010</td>\n",
       "      <td>0.811258</td>\n",
       "      <td>0.856197</td>\n",
       "      <td>0.877010</td>\n",
       "      <td>0.756386</td>\n",
       "      <td>0.714286</td>\n",
       "      <td>0.817408</td>\n",
       "      <td>0.875591</td>\n",
       "    </tr>\n",
       "    <tr>\n",
       "      <th>F1 (macro)</th>\n",
       "      <td>0.877009</td>\n",
       "      <td>0.811243</td>\n",
       "      <td>0.856088</td>\n",
       "      <td>0.876975</td>\n",
       "      <td>0.747293</td>\n",
       "      <td>0.703119</td>\n",
       "      <td>0.817388</td>\n",
       "      <td>0.875557</td>\n",
       "    </tr>\n",
       "    <tr>\n",
       "      <th>F1 (micro)</th>\n",
       "      <td>0.877010</td>\n",
       "      <td>0.811258</td>\n",
       "      <td>0.856197</td>\n",
       "      <td>0.877010</td>\n",
       "      <td>0.756386</td>\n",
       "      <td>0.714286</td>\n",
       "      <td>0.817408</td>\n",
       "      <td>0.875591</td>\n",
       "    </tr>\n",
       "    <tr>\n",
       "      <th>Precision (macro)</th>\n",
       "      <td>0.877030</td>\n",
       "      <td>0.811341</td>\n",
       "      <td>0.857210</td>\n",
       "      <td>0.877409</td>\n",
       "      <td>0.799952</td>\n",
       "      <td>0.751804</td>\n",
       "      <td>0.817524</td>\n",
       "      <td>0.875965</td>\n",
       "    </tr>\n",
       "    <tr>\n",
       "      <th>Precision (micro)</th>\n",
       "      <td>0.877010</td>\n",
       "      <td>0.811258</td>\n",
       "      <td>0.856197</td>\n",
       "      <td>0.877010</td>\n",
       "      <td>0.756386</td>\n",
       "      <td>0.714286</td>\n",
       "      <td>0.817408</td>\n",
       "      <td>0.875591</td>\n",
       "    </tr>\n",
       "    <tr>\n",
       "      <th>Recall (macro)</th>\n",
       "      <td>0.877014</td>\n",
       "      <td>0.811251</td>\n",
       "      <td>0.856172</td>\n",
       "      <td>0.876995</td>\n",
       "      <td>0.756566</td>\n",
       "      <td>0.714103</td>\n",
       "      <td>0.817399</td>\n",
       "      <td>0.875576</td>\n",
       "    </tr>\n",
       "    <tr>\n",
       "      <th>Recall (micro)</th>\n",
       "      <td>0.877010</td>\n",
       "      <td>0.811258</td>\n",
       "      <td>0.856197</td>\n",
       "      <td>0.877010</td>\n",
       "      <td>0.756386</td>\n",
       "      <td>0.714286</td>\n",
       "      <td>0.817408</td>\n",
       "      <td>0.875591</td>\n",
       "    </tr>\n",
       "    <tr>\n",
       "      <th>Cross Validation</th>\n",
       "      <td>0.858643</td>\n",
       "      <td>0.804258</td>\n",
       "      <td>0.856145</td>\n",
       "      <td>0.867045</td>\n",
       "      <td>0.740562</td>\n",
       "      <td>0.721885</td>\n",
       "      <td>0.799319</td>\n",
       "      <td>0.870338</td>\n",
       "    </tr>\n",
       "    <tr>\n",
       "      <th>Execution Time (sec)</th>\n",
       "      <td>10.791598</td>\n",
       "      <td>0.317235</td>\n",
       "      <td>4.023082</td>\n",
       "      <td>3.425960</td>\n",
       "      <td>0.175422</td>\n",
       "      <td>0.994537</td>\n",
       "      <td>48.096231</td>\n",
       "      <td>9.780759</td>\n",
       "    </tr>\n",
       "  </tbody>\n",
       "</table>\n",
       "</div>"
      ],
      "text/plain": [
       "                      Logistic Classification  Decision Tree Classification  \\\n",
       "Accuracy                             0.877010                      0.811258   \n",
       "F1 (macro)                           0.877009                      0.811243   \n",
       "F1 (micro)                           0.877010                      0.811258   \n",
       "Precision (macro)                    0.877030                      0.811341   \n",
       "Precision (micro)                    0.877010                      0.811258   \n",
       "Recall (macro)                       0.877014                      0.811251   \n",
       "Recall (micro)                       0.877010                      0.811258   \n",
       "Cross Validation                     0.858643                      0.804258   \n",
       "Execution Time (sec)                10.791598                      0.317235   \n",
       "\n",
       "                      Random Forest Classification  \\\n",
       "Accuracy                                  0.856197   \n",
       "F1 (macro)                                0.856088   \n",
       "F1 (micro)                                0.856197   \n",
       "Precision (macro)                         0.857210   \n",
       "Precision (micro)                         0.856197   \n",
       "Recall (macro)                            0.856172   \n",
       "Recall (micro)                            0.856197   \n",
       "Cross Validation                          0.856145   \n",
       "Execution Time (sec)                      4.023082   \n",
       "\n",
       "                      Extra Trees Classification  Naive Bayes Classification  \\\n",
       "Accuracy                                0.877010                    0.756386   \n",
       "F1 (macro)                              0.876975                    0.747293   \n",
       "F1 (micro)                              0.877010                    0.756386   \n",
       "Precision (macro)                       0.877409                    0.799952   \n",
       "Precision (micro)                       0.877010                    0.756386   \n",
       "Recall (macro)                          0.876995                    0.756566   \n",
       "Recall (micro)                          0.877010                    0.756386   \n",
       "Cross Validation                        0.867045                    0.740562   \n",
       "Execution Time (sec)                    3.425960                    0.175422   \n",
       "\n",
       "                      Nearest Neighbors Classification  \\\n",
       "Accuracy                                      0.714286   \n",
       "F1 (macro)                                    0.703119   \n",
       "F1 (micro)                                    0.714286   \n",
       "Precision (macro)                             0.751804   \n",
       "Precision (micro)                             0.714286   \n",
       "Recall (macro)                                0.714103   \n",
       "Recall (micro)                                0.714286   \n",
       "Cross Validation                              0.721885   \n",
       "Execution Time (sec)                          0.994537   \n",
       "\n",
       "                      Gradient Boosting Classification  \\\n",
       "Accuracy                                      0.817408   \n",
       "F1 (macro)                                    0.817388   \n",
       "F1 (micro)                                    0.817408   \n",
       "Precision (macro)                             0.817524   \n",
       "Precision (micro)                             0.817408   \n",
       "Recall (macro)                                0.817399   \n",
       "Recall (micro)                                0.817408   \n",
       "Cross Validation                              0.799319   \n",
       "Execution Time (sec)                         48.096231   \n",
       "\n",
       "                      Multi-Layer Perception Classification  \n",
       "Accuracy                                           0.875591  \n",
       "F1 (macro)                                         0.875557  \n",
       "F1 (micro)                                         0.875591  \n",
       "Precision (macro)                                  0.875965  \n",
       "Precision (micro)                                  0.875591  \n",
       "Recall (macro)                                     0.875576  \n",
       "Recall (micro)                                     0.875591  \n",
       "Cross Validation                                   0.870338  \n",
       "Execution Time (sec)                               9.780759  "
      ]
     },
     "execution_count": 63,
     "metadata": {},
     "output_type": "execute_result"
    }
   ],
   "source": [
    "final_metrics = pd.concat([class_metrics, xv_metrics, et_metrics])\n",
    "print(\"Classification Summary with Categorical Features\\n\")\n",
    "final_metrics"
   ]
  },
  {
   "cell_type": "markdown",
   "metadata": {},
   "source": [
    "The Extra Trees model attained the highest accuracy in classifying the four classes. The Naïve Bayes model performed the poorest."
   ]
  },
  {
   "cell_type": "markdown",
   "metadata": {},
   "source": [
    "## 3. Modeling - Numerical Feature Set"
   ]
  },
  {
   "cell_type": "code",
   "execution_count": 64,
   "metadata": {
    "collapsed": true
   },
   "outputs": [],
   "source": [
    "data = data[['Checkout_Month', 'Checkout_WeekDay', 'Checkout_Hour', 'Temperature', \n",
    "           'Apparent_Temperature', 'Cloud_Cover', 'Wind_Speed', 'Humidity', 'Visibility', 'Class_Label']]"
   ]
  },
  {
   "cell_type": "code",
   "execution_count": 65,
   "metadata": {
    "collapsed": false
   },
   "outputs": [
    {
     "data": {
      "image/png": "[encoded data removed]",
      "text/plain": [
       "<matplotlib.figure.Figure at 0x18b4cd4fef0>"
      ]
     },
     "metadata": {},
     "output_type": "display_data"
    }
   ],
   "source": [
    "plt.figure(figsize=(12,8))\n",
    "ax = sns.heatmap(data.corr())\n",
    "plt.title(\"Feature Correlations\", fontsize=18)\n",
    "plt.xticks(fontsize=14)\n",
    "plt.yticks(fontsize=14)\n",
    "plt.show()"
   ]
  },
  {
   "cell_type": "code",
   "execution_count": 66,
   "metadata": {
    "collapsed": false
   },
   "outputs": [
    {
     "name": "stdout",
     "output_type": "stream",
     "text": [
      "<class 'pandas.core.frame.DataFrame'>\n",
      "Int64Index: 7046 entries, 0 to 8758\n",
      "Data columns (total 10 columns):\n",
      "Checkout_Month          7046 non-null int32\n",
      "Checkout_WeekDay        7046 non-null int32\n",
      "Checkout_Hour           7046 non-null int64\n",
      "Temperature             7046 non-null float64\n",
      "Apparent_Temperature    7046 non-null float64\n",
      "Cloud_Cover             7046 non-null float64\n",
      "Wind_Speed              7046 non-null float64\n",
      "Humidity                7046 non-null float64\n",
      "Visibility              7046 non-null float64\n",
      "Class_Label             7046 non-null int64\n",
      "dtypes: float64(6), int32(2), int64(2)\n",
      "memory usage: 550.5 KB\n"
     ]
    }
   ],
   "source": [
    "data.info()"
   ]
  },
  {
   "cell_type": "code",
   "execution_count": 67,
   "metadata": {
    "collapsed": false
   },
   "outputs": [],
   "source": [
    "array = data.values\n",
    "X = array[:,0:8]\n",
    "y = array[:,8]"
   ]
  },
  {
   "cell_type": "code",
   "execution_count": 68,
   "metadata": {
    "collapsed": false
   },
   "outputs": [],
   "source": [
    "features = ['Checkout_Month', 'Checkout_WeekDay', 'Checkout_Hour',  \n",
    "            'Temperature', 'Apparent_Temperature', 'Cloud_Cover', 'Wind_Speed', 'Humidity', 'Visibility']\n",
    "X = data[features]\n",
    "y = data[\"Class_Label\"]\n",
    "X_train, X_test, y_train, y_test = train_test_split(X, y, test_size=0.3, random_state=0, stratify=y)"
   ]
  },
  {
   "cell_type": "code",
   "execution_count": 69,
   "metadata": {
    "collapsed": true
   },
   "outputs": [],
   "source": [
    "def plot_feature_importances(model, plot_title):\n",
    "    n_features = X.shape[1]\n",
    "    plt.figure(figsize=(10,6))\n",
    "    feature_importance = model.feature_importances_\n",
    "    features_list = features\n",
    "    feature_importance, features_list = zip(*sorted(zip(feature_importance, features_list)))\n",
    "    plt.barh(range(len(features_list)), feature_importance, align='center')\n",
    "    plt.xticks(fontsize=14)\n",
    "    plt.yticks(np.arange(len(features_list)), features_list, fontsize=14)\n",
    "    plt.xlabel('Relative Importance', fontsize=16)\n",
    "    plt.ylabel('Feature', fontsize=16)\n",
    "    plt.title(plot_title + ' Features Importance', fontsize=20)\n",
    "    plt.show()"
   ]
  },
  {
   "cell_type": "markdown",
   "metadata": {},
   "source": [
    "#### Decision Tree Classification"
   ]
  },
  {
   "cell_type": "code",
   "execution_count": 70,
   "metadata": {
    "collapsed": false
   },
   "outputs": [
    {
     "name": "stdout",
     "output_type": "stream",
     "text": [
      "Decision Tree Classification \n",
      "\n",
      "Accuracy on training set: 1.000\n",
      "Accuracy on test set: 0.846\n",
      "\n",
      "Confusion Matrix:\n",
      "[[898 160]\n",
      " [166 890]]\n",
      "\n",
      "Classification Report:\n",
      "             precision    recall  f1-score   support\n",
      "\n",
      "          0       0.84      0.85      0.85      1058\n",
      "          1       0.85      0.84      0.85      1056\n",
      "\n",
      "avg / total       0.85      0.85      0.85      2114\n",
      "\n",
      "Cross-validation scores:\n",
      "[ 0.83707068  0.82940676  0.82997445  0.83735453  0.82628442]\n",
      "Cross-validation accuracy: 0.83 (+/- 0.01) @ 95% CI\n",
      "\n",
      "Execution Time (sec): 0.302\n"
     ]
    },
    {
     "data": {
      "image/png": "[encoded data removed]",
      "text/plain": [
       "<matplotlib.figure.Figure at 0x18b4b016748>"
      ]
     },
     "metadata": {},
     "output_type": "display_data"
    },
    {
     "data": {
      "text/html": [
       "<div>\n",
       "<table border=\"1\" class=\"dataframe\">\n",
       "  <thead>\n",
       "    <tr style=\"text-align: right;\">\n",
       "      <th></th>\n",
       "      <th>Decision Tree Classification</th>\n",
       "    </tr>\n",
       "  </thead>\n",
       "  <tbody>\n",
       "    <tr>\n",
       "      <th>Accuracy</th>\n",
       "      <td>0.845790</td>\n",
       "    </tr>\n",
       "    <tr>\n",
       "      <th>F1 (macro)</th>\n",
       "      <td>0.845788</td>\n",
       "    </tr>\n",
       "    <tr>\n",
       "      <th>F1 (micro)</th>\n",
       "      <td>0.845790</td>\n",
       "    </tr>\n",
       "    <tr>\n",
       "      <th>Precision (macro)</th>\n",
       "      <td>0.845802</td>\n",
       "    </tr>\n",
       "    <tr>\n",
       "      <th>Precision (micro)</th>\n",
       "      <td>0.845790</td>\n",
       "    </tr>\n",
       "    <tr>\n",
       "      <th>Recall (macro)</th>\n",
       "      <td>0.845787</td>\n",
       "    </tr>\n",
       "    <tr>\n",
       "      <th>Recall (micro)</th>\n",
       "      <td>0.845790</td>\n",
       "    </tr>\n",
       "  </tbody>\n",
       "</table>\n",
       "</div>"
      ],
      "text/plain": [
       "                   Decision Tree Classification\n",
       "Accuracy                               0.845790\n",
       "F1 (macro)                             0.845788\n",
       "F1 (micro)                             0.845790\n",
       "Precision (macro)                      0.845802\n",
       "Precision (micro)                      0.845790\n",
       "Recall (macro)                         0.845787\n",
       "Recall (micro)                         0.845790"
      ]
     },
     "execution_count": 70,
     "metadata": {},
     "output_type": "execute_result"
    }
   ],
   "source": [
    "# Decision Tree Classifier\n",
    "class_model = 'Decision Tree Classification'\n",
    "start = timer()\n",
    "clf = DecisionTreeClassifier(random_state=0)\n",
    "dtc = perform_classification(class_model, clf)\n",
    "dtc_xv = perform_cross_validation(class_model, clf)\n",
    "end = timer()\n",
    "et = end - start\n",
    "print(\"\\nExecution Time (sec): {:.3f}\".format(et))\n",
    "dtc_et = get_execution_time_metrics(class_model, et)\n",
    "plot_feature_importances(clf, class_model)\n",
    "dtc.sort_index()"
   ]
  },
  {
   "cell_type": "markdown",
   "metadata": {},
   "source": [
    "#### Linear (Logistic Regression) Classification"
   ]
  },
  {
   "cell_type": "code",
   "execution_count": 71,
   "metadata": {
    "collapsed": false
   },
   "outputs": [
    {
     "name": "stdout",
     "output_type": "stream",
     "text": [
      "Logistic Classification \n",
      "\n",
      "Accuracy on training set: 0.766\n",
      "Accuracy on test set: 0.773\n",
      "\n",
      "Confusion Matrix:\n",
      "[[810 248]\n",
      " [232 824]]\n",
      "\n",
      "Classification Report:\n",
      "             precision    recall  f1-score   support\n",
      "\n",
      "          0       0.78      0.77      0.77      1058\n",
      "          1       0.77      0.78      0.77      1056\n",
      "\n",
      "avg / total       0.77      0.77      0.77      2114\n",
      "\n",
      "Cross-validation scores:\n",
      "[ 0.76923077  0.76951462  0.76156685  0.77803009  0.78001703]\n",
      "Cross-validation accuracy: 0.77 (+/- 0.01) @ 95% CI\n",
      "\n",
      "Execution Time (sec): 9.677\n"
     ]
    },
    {
     "data": {
      "text/html": [
       "<div>\n",
       "<table border=\"1\" class=\"dataframe\">\n",
       "  <thead>\n",
       "    <tr style=\"text-align: right;\">\n",
       "      <th></th>\n",
       "      <th>Logistic Classification</th>\n",
       "    </tr>\n",
       "  </thead>\n",
       "  <tbody>\n",
       "    <tr>\n",
       "      <th>Accuracy</th>\n",
       "      <td>0.772942</td>\n",
       "    </tr>\n",
       "    <tr>\n",
       "      <th>F1 (macro)</th>\n",
       "      <td>0.772932</td>\n",
       "    </tr>\n",
       "    <tr>\n",
       "      <th>F1 (micro)</th>\n",
       "      <td>0.772942</td>\n",
       "    </tr>\n",
       "    <tr>\n",
       "      <th>Precision (macro)</th>\n",
       "      <td>0.773004</td>\n",
       "    </tr>\n",
       "    <tr>\n",
       "      <th>Precision (micro)</th>\n",
       "      <td>0.772942</td>\n",
       "    </tr>\n",
       "    <tr>\n",
       "      <th>Recall (macro)</th>\n",
       "      <td>0.772949</td>\n",
       "    </tr>\n",
       "    <tr>\n",
       "      <th>Recall (micro)</th>\n",
       "      <td>0.772942</td>\n",
       "    </tr>\n",
       "  </tbody>\n",
       "</table>\n",
       "</div>"
      ],
      "text/plain": [
       "                   Logistic Classification\n",
       "Accuracy                          0.772942\n",
       "F1 (macro)                        0.772932\n",
       "F1 (micro)                        0.772942\n",
       "Precision (macro)                 0.773004\n",
       "Precision (micro)                 0.772942\n",
       "Recall (macro)                    0.772949\n",
       "Recall (micro)                    0.772942"
      ]
     },
     "execution_count": 71,
     "metadata": {},
     "output_type": "execute_result"
    }
   ],
   "source": [
    "# logistic regression\n",
    "class_model = 'Logistic Classification'\n",
    "start = timer()\n",
    "#clf = linear_model.LogisticRegression(random_state=0)\n",
    "clf = linear_model.LogisticRegression(C=1.0, solver='lbfgs', random_state=0, multi_class='ovr', n_jobs=-1)\n",
    "lin_reg = perform_classification(class_model, clf)\n",
    "lin_reg_xv = perform_cross_validation(class_model, clf)\n",
    "end = timer()\n",
    "et = end - start\n",
    "print(\"\\nExecution Time (sec): {:.3f}\".format((end - start)))\n",
    "lin_reg_et = get_execution_time_metrics(class_model, et)\n",
    "lin_reg.sort_index()"
   ]
  },
  {
   "cell_type": "markdown",
   "metadata": {},
   "source": [
    "#### Random Forest Classification"
   ]
  },
  {
   "cell_type": "code",
   "execution_count": 72,
   "metadata": {
    "collapsed": false
   },
   "outputs": [
    {
     "name": "stdout",
     "output_type": "stream",
     "text": [
      "Random Forest Classification \n",
      "\n",
      "Accuracy on training set: 1.000\n",
      "Accuracy on test set: 0.878\n",
      "\n",
      "Confusion Matrix:\n",
      "[[944 114]\n",
      " [143 913]]\n",
      "\n",
      "Classification Report:\n",
      "             precision    recall  f1-score   support\n",
      "\n",
      "          0       0.87      0.89      0.88      1058\n",
      "          1       0.89      0.86      0.88      1056\n",
      "\n",
      "avg / total       0.88      0.88      0.88      2114\n",
      "\n",
      "Cross-validation scores:\n",
      "[ 0.86772637  0.88049957  0.87567414  0.87851263  0.86942946]\n",
      "Cross-validation accuracy: 0.87 (+/- 0.01) @ 95% CI\n",
      "\n",
      "Execution Time (sec): 3.973\n"
     ]
    },
    {
     "data": {
      "image/png": "[encoded data removed]",
      "text/plain": [
       "<matplotlib.figure.Figure at 0x18b4e3d4400>"
      ]
     },
     "metadata": {},
     "output_type": "display_data"
    },
    {
     "data": {
      "text/html": [
       "<div>\n",
       "<table border=\"1\" class=\"dataframe\">\n",
       "  <thead>\n",
       "    <tr style=\"text-align: right;\">\n",
       "      <th></th>\n",
       "      <th>Random Forest Classification</th>\n",
       "    </tr>\n",
       "  </thead>\n",
       "  <tbody>\n",
       "    <tr>\n",
       "      <th>Accuracy</th>\n",
       "      <td>0.878430</td>\n",
       "    </tr>\n",
       "    <tr>\n",
       "      <th>F1 (macro)</th>\n",
       "      <td>0.878403</td>\n",
       "    </tr>\n",
       "    <tr>\n",
       "      <th>F1 (micro)</th>\n",
       "      <td>0.878430</td>\n",
       "    </tr>\n",
       "    <tr>\n",
       "      <th>Precision (macro)</th>\n",
       "      <td>0.878721</td>\n",
       "    </tr>\n",
       "    <tr>\n",
       "      <th>Precision (micro)</th>\n",
       "      <td>0.878430</td>\n",
       "    </tr>\n",
       "    <tr>\n",
       "      <th>Recall (macro)</th>\n",
       "      <td>0.878416</td>\n",
       "    </tr>\n",
       "    <tr>\n",
       "      <th>Recall (micro)</th>\n",
       "      <td>0.878430</td>\n",
       "    </tr>\n",
       "  </tbody>\n",
       "</table>\n",
       "</div>"
      ],
      "text/plain": [
       "                   Random Forest Classification\n",
       "Accuracy                               0.878430\n",
       "F1 (macro)                             0.878403\n",
       "F1 (micro)                             0.878430\n",
       "Precision (macro)                      0.878721\n",
       "Precision (micro)                      0.878430\n",
       "Recall (macro)                         0.878416\n",
       "Recall (micro)                         0.878430"
      ]
     },
     "execution_count": 72,
     "metadata": {},
     "output_type": "execute_result"
    }
   ],
   "source": [
    "# Random Forest Classifier\n",
    "class_model = 'Random Forest Classification'\n",
    "start = timer() \n",
    "clf = RandomForestClassifier(n_estimators=150, max_features='auto', max_depth=None, random_state=0, n_jobs=-1)\n",
    "rfc = perform_classification(class_model, clf)\n",
    "rfc_xv = perform_cross_validation(class_model, clf)\n",
    "end = timer()\n",
    "et = end - start\n",
    "print(\"\\nExecution Time (sec): {:.3f}\".format((end - start)))\n",
    "rfc_et = get_execution_time_metrics(class_model, et)\n",
    "plot_feature_importances(clf, class_model)\n",
    "rfc.sort_index()"
   ]
  },
  {
   "cell_type": "markdown",
   "metadata": {},
   "source": [
    "#### Extra Trees Classification"
   ]
  },
  {
   "cell_type": "code",
   "execution_count": 73,
   "metadata": {
    "collapsed": false
   },
   "outputs": [
    {
     "name": "stdout",
     "output_type": "stream",
     "text": [
      "Extra Trees Classification \n",
      "\n",
      "Accuracy on training set: 1.000\n",
      "Accuracy on test set: 0.872\n",
      "\n",
      "Confusion Matrix:\n",
      "[[950 108]\n",
      " [162 894]]\n",
      "\n",
      "Classification Report:\n",
      "             precision    recall  f1-score   support\n",
      "\n",
      "          0       0.85      0.90      0.88      1058\n",
      "          1       0.89      0.85      0.87      1056\n",
      "\n",
      "avg / total       0.87      0.87      0.87      2114\n",
      "\n",
      "Cross-validation scores:\n",
      "[ 0.86375248  0.87964803  0.87028101  0.86914561  0.87226795]\n",
      "Cross-validation accuracy: 0.87 (+/- 0.01) @ 95% CI\n",
      "\n",
      "Execution Time (sec): 3.246\n"
     ]
    },
    {
     "data": {
      "image/png": "[encoded data removed]",
      "text/plain": [
       "<matplotlib.figure.Figure at 0x18b4e43e400>"
      ]
     },
     "metadata": {},
     "output_type": "display_data"
    },
    {
     "data": {
      "text/html": [
       "<div>\n",
       "<table border=\"1\" class=\"dataframe\">\n",
       "  <thead>\n",
       "    <tr style=\"text-align: right;\">\n",
       "      <th></th>\n",
       "      <th>Extra Trees Classification</th>\n",
       "    </tr>\n",
       "  </thead>\n",
       "  <tbody>\n",
       "    <tr>\n",
       "      <th>Accuracy</th>\n",
       "      <td>0.872280</td>\n",
       "    </tr>\n",
       "    <tr>\n",
       "      <th>F1 (macro)</th>\n",
       "      <td>0.872190</td>\n",
       "    </tr>\n",
       "    <tr>\n",
       "      <th>F1 (micro)</th>\n",
       "      <td>0.872280</td>\n",
       "    </tr>\n",
       "    <tr>\n",
       "      <th>Precision (macro)</th>\n",
       "      <td>0.873266</td>\n",
       "    </tr>\n",
       "    <tr>\n",
       "      <th>Precision (micro)</th>\n",
       "      <td>0.872280</td>\n",
       "    </tr>\n",
       "    <tr>\n",
       "      <th>Recall (macro)</th>\n",
       "      <td>0.872256</td>\n",
       "    </tr>\n",
       "    <tr>\n",
       "      <th>Recall (micro)</th>\n",
       "      <td>0.872280</td>\n",
       "    </tr>\n",
       "  </tbody>\n",
       "</table>\n",
       "</div>"
      ],
      "text/plain": [
       "                   Extra Trees Classification\n",
       "Accuracy                             0.872280\n",
       "F1 (macro)                           0.872190\n",
       "F1 (micro)                           0.872280\n",
       "Precision (macro)                    0.873266\n",
       "Precision (micro)                    0.872280\n",
       "Recall (macro)                       0.872256\n",
       "Recall (micro)                       0.872280"
      ]
     },
     "execution_count": 73,
     "metadata": {},
     "output_type": "execute_result"
    }
   ],
   "source": [
    "# Extra Trees Classifier\n",
    "class_model = 'Extra Trees Classification'\n",
    "start = timer() \n",
    "clf = ExtraTreesClassifier(n_estimators=150, max_features='auto', max_depth=None, random_state=0, n_jobs=-1)\n",
    "etc = perform_classification(class_model, clf)\n",
    "etc_xv = perform_cross_validation(class_model, clf)\n",
    "end = timer()\n",
    "et = end - start\n",
    "print(\"\\nExecution Time (sec): {:.3f}\".format((end - start)))\n",
    "etc_et = get_execution_time_metrics(class_model, et)\n",
    "plot_feature_importances(clf, class_model)\n",
    "etc.sort_index()"
   ]
  },
  {
   "cell_type": "markdown",
   "metadata": {},
   "source": [
    "#### Naive Bayes Classification"
   ]
  },
  {
   "cell_type": "code",
   "execution_count": 74,
   "metadata": {
    "collapsed": false
   },
   "outputs": [
    {
     "name": "stdout",
     "output_type": "stream",
     "text": [
      "Naive Bayes Classification \n",
      "\n",
      "Accuracy on training set: 0.766\n",
      "Accuracy on test set: 0.772\n",
      "\n",
      "Confusion Matrix:\n",
      "[[727 331]\n",
      " [152 904]]\n",
      "\n",
      "Classification Report:\n",
      "             precision    recall  f1-score   support\n",
      "\n",
      "          0       0.83      0.69      0.75      1058\n",
      "          1       0.73      0.86      0.79      1056\n",
      "\n",
      "avg / total       0.78      0.77      0.77      2114\n",
      "\n",
      "Cross-validation scores:\n",
      "[ 0.7734885   0.75730911  0.77178541  0.76781152  0.75560602]\n",
      "Cross-validation accuracy: 0.77 (+/- 0.01) @ 95% CI\n",
      "\n",
      "Execution Time (sec): 0.107\n"
     ]
    },
    {
     "data": {
      "text/html": [
       "<div>\n",
       "<table border=\"1\" class=\"dataframe\">\n",
       "  <thead>\n",
       "    <tr style=\"text-align: right;\">\n",
       "      <th></th>\n",
       "      <th>Naive Bayes Classification</th>\n",
       "    </tr>\n",
       "  </thead>\n",
       "  <tbody>\n",
       "    <tr>\n",
       "      <th>Accuracy</th>\n",
       "      <td>0.771523</td>\n",
       "    </tr>\n",
       "    <tr>\n",
       "      <th>F1 (macro)</th>\n",
       "      <td>0.769910</td>\n",
       "    </tr>\n",
       "    <tr>\n",
       "      <th>F1 (micro)</th>\n",
       "      <td>0.771523</td>\n",
       "    </tr>\n",
       "    <tr>\n",
       "      <th>Precision (macro)</th>\n",
       "      <td>0.779530</td>\n",
       "    </tr>\n",
       "    <tr>\n",
       "      <th>Precision (micro)</th>\n",
       "      <td>0.771523</td>\n",
       "    </tr>\n",
       "    <tr>\n",
       "      <th>Recall (macro)</th>\n",
       "      <td>0.771603</td>\n",
       "    </tr>\n",
       "    <tr>\n",
       "      <th>Recall (micro)</th>\n",
       "      <td>0.771523</td>\n",
       "    </tr>\n",
       "  </tbody>\n",
       "</table>\n",
       "</div>"
      ],
      "text/plain": [
       "                   Naive Bayes Classification\n",
       "Accuracy                             0.771523\n",
       "F1 (macro)                           0.769910\n",
       "F1 (micro)                           0.771523\n",
       "Precision (macro)                    0.779530\n",
       "Precision (micro)                    0.771523\n",
       "Recall (macro)                       0.771603\n",
       "Recall (micro)                       0.771523"
      ]
     },
     "execution_count": 74,
     "metadata": {},
     "output_type": "execute_result"
    }
   ],
   "source": [
    "# Naive Bayes Classifier\n",
    "class_model = 'Naive Bayes Classification'\n",
    "start = timer()\n",
    "clf = naive_bayes.GaussianNB()\n",
    "nbg = perform_classification(class_model, clf)\n",
    "nbg_xv = perform_cross_validation(class_model, clf)\n",
    "end = timer()\n",
    "et = end - start\n",
    "print(\"\\nExecution Time (sec): {:.3f}\".format((end - start)))\n",
    "nbg_et = get_execution_time_metrics(class_model, et)\n",
    "nbg.sort_index()"
   ]
  },
  {
   "cell_type": "markdown",
   "metadata": {},
   "source": [
    "#### Nearest Neighbors Classification"
   ]
  },
  {
   "cell_type": "code",
   "execution_count": 75,
   "metadata": {
    "collapsed": false
   },
   "outputs": [
    {
     "name": "stdout",
     "output_type": "stream",
     "text": [
      "Nearest Neighbors Classification \n",
      "\n",
      "Accuracy on training set: 0.916\n",
      "Accuracy on test set: 0.815\n",
      "\n",
      "Confusion Matrix:\n",
      "[[973  85]\n",
      " [306 750]]\n",
      "\n",
      "Classification Report:\n",
      "             precision    recall  f1-score   support\n",
      "\n",
      "          0       0.76      0.92      0.83      1058\n",
      "          1       0.90      0.71      0.79      1056\n",
      "\n",
      "avg / total       0.83      0.82      0.81      2114\n",
      "\n",
      "Cross-validation scores:\n",
      "[ 0.82174283  0.82486517  0.81606585  0.82259438  0.82741981]\n",
      "Cross-validation accuracy: 0.82 (+/- 0.01) @ 95% CI\n",
      "\n",
      "Execution Time (sec): 0.954\n"
     ]
    },
    {
     "data": {
      "text/html": [
       "<div>\n",
       "<table border=\"1\" class=\"dataframe\">\n",
       "  <thead>\n",
       "    <tr style=\"text-align: right;\">\n",
       "      <th></th>\n",
       "      <th>Nearest Neighbors Classification</th>\n",
       "    </tr>\n",
       "  </thead>\n",
       "  <tbody>\n",
       "    <tr>\n",
       "      <th>Accuracy</th>\n",
       "      <td>0.815043</td>\n",
       "    </tr>\n",
       "    <tr>\n",
       "      <th>F1 (macro)</th>\n",
       "      <td>0.812961</td>\n",
       "    </tr>\n",
       "    <tr>\n",
       "      <th>F1 (micro)</th>\n",
       "      <td>0.815043</td>\n",
       "    </tr>\n",
       "    <tr>\n",
       "      <th>Precision (macro)</th>\n",
       "      <td>0.829477</td>\n",
       "    </tr>\n",
       "    <tr>\n",
       "      <th>Precision (micro)</th>\n",
       "      <td>0.815043</td>\n",
       "    </tr>\n",
       "    <tr>\n",
       "      <th>Recall (macro)</th>\n",
       "      <td>0.814944</td>\n",
       "    </tr>\n",
       "    <tr>\n",
       "      <th>Recall (micro)</th>\n",
       "      <td>0.815043</td>\n",
       "    </tr>\n",
       "  </tbody>\n",
       "</table>\n",
       "</div>"
      ],
      "text/plain": [
       "                   Nearest Neighbors Classification\n",
       "Accuracy                                   0.815043\n",
       "F1 (macro)                                 0.812961\n",
       "F1 (micro)                                 0.815043\n",
       "Precision (macro)                          0.829477\n",
       "Precision (micro)                          0.815043\n",
       "Recall (macro)                             0.814944\n",
       "Recall (micro)                             0.815043"
      ]
     },
     "execution_count": 75,
     "metadata": {},
     "output_type": "execute_result"
    }
   ],
   "source": [
    "# Nearest Neighbors Classifier\n",
    "class_model = 'Nearest Neighbors Classification'\n",
    "start = timer()\n",
    "clf = KNeighborsClassifier(n_neighbors=2, n_jobs=-1)\n",
    "knn = perform_classification(class_model, clf)\n",
    "knn_xv = perform_cross_validation(class_model, clf)\n",
    "end = timer()\n",
    "et = end - start\n",
    "print(\"\\nExecution Time (sec): {:.3f}\".format((end - start)))\n",
    "knn_et = get_execution_time_metrics(class_model, et)\n",
    "knn.sort_index()"
   ]
  },
  {
   "cell_type": "markdown",
   "metadata": {},
   "source": [
    "#### Gradient Boosting Classification"
   ]
  },
  {
   "cell_type": "code",
   "execution_count": 76,
   "metadata": {
    "collapsed": false
   },
   "outputs": [
    {
     "name": "stdout",
     "output_type": "stream",
     "text": [
      "Gradient Boosting Classification \n",
      "\n",
      "Accuracy on training set: 1.000\n",
      "Accuracy on test set: 0.852\n",
      "\n",
      "Confusion Matrix:\n",
      "[[910 148]\n",
      " [165 891]]\n",
      "\n",
      "Classification Report:\n",
      "             precision    recall  f1-score   support\n",
      "\n",
      "          0       0.85      0.86      0.85      1058\n",
      "          1       0.86      0.84      0.85      1056\n",
      "\n",
      "avg / total       0.85      0.85      0.85      2114\n",
      "\n",
      "Cross-validation scores:\n",
      "[ 0.84587     0.84161226  0.84728924  0.8447346   0.83792223]\n",
      "Cross-validation accuracy: 0.84 (+/- 0.01) @ 95% CI\n",
      "\n",
      "Execution Time (sec): 20.226\n"
     ]
    },
    {
     "data": {
      "image/png": "[encoded data removed]",
      "text/plain": [
       "<matplotlib.figure.Figure at 0x18b4dc36978>"
      ]
     },
     "metadata": {},
     "output_type": "display_data"
    },
    {
     "data": {
      "text/html": [
       "<div>\n",
       "<table border=\"1\" class=\"dataframe\">\n",
       "  <thead>\n",
       "    <tr style=\"text-align: right;\">\n",
       "      <th></th>\n",
       "      <th>Gradient Boosting Classification</th>\n",
       "    </tr>\n",
       "  </thead>\n",
       "  <tbody>\n",
       "    <tr>\n",
       "      <th>Accuracy</th>\n",
       "      <td>0.851939</td>\n",
       "    </tr>\n",
       "    <tr>\n",
       "      <th>F1 (macro)</th>\n",
       "      <td>0.851927</td>\n",
       "    </tr>\n",
       "    <tr>\n",
       "      <th>F1 (micro)</th>\n",
       "      <td>0.851939</td>\n",
       "    </tr>\n",
       "    <tr>\n",
       "      <th>Precision (macro)</th>\n",
       "      <td>0.852033</td>\n",
       "    </tr>\n",
       "    <tr>\n",
       "      <th>Precision (micro)</th>\n",
       "      <td>0.851939</td>\n",
       "    </tr>\n",
       "    <tr>\n",
       "      <th>Recall (macro)</th>\n",
       "      <td>0.851932</td>\n",
       "    </tr>\n",
       "    <tr>\n",
       "      <th>Recall (micro)</th>\n",
       "      <td>0.851939</td>\n",
       "    </tr>\n",
       "  </tbody>\n",
       "</table>\n",
       "</div>"
      ],
      "text/plain": [
       "                   Gradient Boosting Classification\n",
       "Accuracy                                   0.851939\n",
       "F1 (macro)                                 0.851927\n",
       "F1 (micro)                                 0.851939\n",
       "Precision (macro)                          0.852033\n",
       "Precision (micro)                          0.851939\n",
       "Recall (macro)                             0.851932\n",
       "Recall (micro)                             0.851939"
      ]
     },
     "execution_count": 76,
     "metadata": {},
     "output_type": "execute_result"
    }
   ],
   "source": [
    "# Gradient Boosting Classifier\n",
    "class_model = 'Gradient Boosting Classification'\n",
    "#clf = GradientBoostingClassifier()\n",
    "start = timer()\n",
    "clf = GradientBoostingClassifier(n_estimators=150, max_features='auto', max_depth=None, random_state=0)\n",
    "gbc = perform_classification(class_model, clf)\n",
    "gbc_xv = perform_cross_validation(class_model, clf)\n",
    "end = timer()\n",
    "et = end - start\n",
    "print(\"\\nExecution Time (sec): {:.3f}\".format((end - start)))\n",
    "gbc_et = get_execution_time_metrics(class_model, et)\n",
    "plot_feature_importances(clf, class_model)\n",
    "gbc.sort_index()"
   ]
  },
  {
   "cell_type": "markdown",
   "metadata": {},
   "source": [
    "#### Multi-layer Perceptron Classification"
   ]
  },
  {
   "cell_type": "code",
   "execution_count": 77,
   "metadata": {
    "collapsed": false
   },
   "outputs": [
    {
     "name": "stdout",
     "output_type": "stream",
     "text": [
      "Multi-Layer Perception Classification \n",
      "\n",
      "Accuracy on training set: 0.854\n",
      "Accuracy on test set: 0.868\n",
      "\n",
      "Confusion Matrix:\n",
      "[[934 124]\n",
      " [156 900]]\n",
      "\n",
      "Classification Report:\n",
      "             precision    recall  f1-score   support\n",
      "\n",
      "          0       0.86      0.88      0.87      1058\n",
      "          1       0.88      0.85      0.87      1056\n",
      "\n",
      "avg / total       0.87      0.87      0.87      2114\n",
      "\n",
      "Cross-validation scores:\n",
      "[ 0.84899234  0.85665626  0.84359921  0.85580471  0.85835935]\n",
      "Cross-validation accuracy: 0.85 (+/- 0.01) @ 95% CI\n",
      "\n",
      "Execution Time (sec): 4.670\n"
     ]
    },
    {
     "data": {
      "text/html": [
       "<div>\n",
       "<table border=\"1\" class=\"dataframe\">\n",
       "  <thead>\n",
       "    <tr style=\"text-align: right;\">\n",
       "      <th></th>\n",
       "      <th>Multi-Layer Perception Classification</th>\n",
       "    </tr>\n",
       "  </thead>\n",
       "  <tbody>\n",
       "    <tr>\n",
       "      <th>Accuracy</th>\n",
       "      <td>0.867550</td>\n",
       "    </tr>\n",
       "    <tr>\n",
       "      <th>F1 (macro)</th>\n",
       "      <td>0.867515</td>\n",
       "    </tr>\n",
       "    <tr>\n",
       "      <th>F1 (micro)</th>\n",
       "      <td>0.867550</td>\n",
       "    </tr>\n",
       "    <tr>\n",
       "      <th>Precision (macro)</th>\n",
       "      <td>0.867893</td>\n",
       "    </tr>\n",
       "    <tr>\n",
       "      <th>Precision (micro)</th>\n",
       "      <td>0.867550</td>\n",
       "    </tr>\n",
       "    <tr>\n",
       "      <th>Recall (macro)</th>\n",
       "      <td>0.867535</td>\n",
       "    </tr>\n",
       "    <tr>\n",
       "      <th>Recall (micro)</th>\n",
       "      <td>0.867550</td>\n",
       "    </tr>\n",
       "  </tbody>\n",
       "</table>\n",
       "</div>"
      ],
      "text/plain": [
       "                   Multi-Layer Perception Classification\n",
       "Accuracy                                        0.867550\n",
       "F1 (macro)                                      0.867515\n",
       "F1 (micro)                                      0.867550\n",
       "Precision (macro)                               0.867893\n",
       "Precision (micro)                               0.867550\n",
       "Recall (macro)                                  0.867535\n",
       "Recall (micro)                                  0.867550"
      ]
     },
     "execution_count": 77,
     "metadata": {},
     "output_type": "execute_result"
    }
   ],
   "source": [
    "# Multi-Layer Perceptron Classification\n",
    "class_model = 'Multi-Layer Perception Classification'\n",
    "start = timer()\n",
    "clf = MLPClassifier(random_state=0)\n",
    "mlp = perform_classification(class_model, clf)\n",
    "mlp_xv = perform_cross_validation(class_model, clf)\n",
    "end = timer()\n",
    "et = end - start\n",
    "print(\"\\nExecution Time (sec): {:.3f}\".format((end - start)))\n",
    "mlp_et = get_execution_time_metrics(class_model, et)\n",
    "mlp.sort_index()"
   ]
  },
  {
   "cell_type": "markdown",
   "metadata": {},
   "source": [
    "## Classification Summary with Numerical Feature Set"
   ]
  },
  {
   "cell_type": "code",
   "execution_count": 78,
   "metadata": {
    "collapsed": false
   },
   "outputs": [],
   "source": [
    "class_metrics = pd.concat([lin_reg, dtc, rfc, etc, nbg, knn, gbc, mlp] , axis=1)"
   ]
  },
  {
   "cell_type": "code",
   "execution_count": 79,
   "metadata": {
    "collapsed": false
   },
   "outputs": [],
   "source": [
    "xv_metrics = pd.concat([lin_reg_xv, dtc_xv, rfc_xv, etc_xv, nbg_xv, knn_xv, gbc_xv, mlp_xv], axis = 1)"
   ]
  },
  {
   "cell_type": "code",
   "execution_count": 80,
   "metadata": {
    "collapsed": false
   },
   "outputs": [],
   "source": [
    "et_metrics = pd.concat([lin_reg_et, dtc_et, rfc_et, etc_et, nbg_et, knn_et, gbc_et, mlp_et], axis = 1)"
   ]
  },
  {
   "cell_type": "code",
   "execution_count": 81,
   "metadata": {
    "collapsed": false
   },
   "outputs": [
    {
     "name": "stdout",
     "output_type": "stream",
     "text": [
      "Classification Summary with Numerical Feature Set\n",
      "\n"
     ]
    },
    {
     "data": {
      "text/html": [
       "<div>\n",
       "<table border=\"1\" class=\"dataframe\">\n",
       "  <thead>\n",
       "    <tr style=\"text-align: right;\">\n",
       "      <th></th>\n",
       "      <th>Logistic Classification</th>\n",
       "      <th>Decision Tree Classification</th>\n",
       "      <th>Random Forest Classification</th>\n",
       "      <th>Extra Trees Classification</th>\n",
       "      <th>Naive Bayes Classification</th>\n",
       "      <th>Nearest Neighbors Classification</th>\n",
       "      <th>Gradient Boosting Classification</th>\n",
       "      <th>Multi-Layer Perception Classification</th>\n",
       "    </tr>\n",
       "  </thead>\n",
       "  <tbody>\n",
       "    <tr>\n",
       "      <th>Accuracy</th>\n",
       "      <td>0.772942</td>\n",
       "      <td>0.845790</td>\n",
       "      <td>0.878430</td>\n",
       "      <td>0.872280</td>\n",
       "      <td>0.771523</td>\n",
       "      <td>0.815043</td>\n",
       "      <td>0.851939</td>\n",
       "      <td>0.867550</td>\n",
       "    </tr>\n",
       "    <tr>\n",
       "      <th>F1 (macro)</th>\n",
       "      <td>0.772932</td>\n",
       "      <td>0.845788</td>\n",
       "      <td>0.878403</td>\n",
       "      <td>0.872190</td>\n",
       "      <td>0.769910</td>\n",
       "      <td>0.812961</td>\n",
       "      <td>0.851927</td>\n",
       "      <td>0.867515</td>\n",
       "    </tr>\n",
       "    <tr>\n",
       "      <th>F1 (micro)</th>\n",
       "      <td>0.772942</td>\n",
       "      <td>0.845790</td>\n",
       "      <td>0.878430</td>\n",
       "      <td>0.872280</td>\n",
       "      <td>0.771523</td>\n",
       "      <td>0.815043</td>\n",
       "      <td>0.851939</td>\n",
       "      <td>0.867550</td>\n",
       "    </tr>\n",
       "    <tr>\n",
       "      <th>Precision (macro)</th>\n",
       "      <td>0.773004</td>\n",
       "      <td>0.845802</td>\n",
       "      <td>0.878721</td>\n",
       "      <td>0.873266</td>\n",
       "      <td>0.779530</td>\n",
       "      <td>0.829477</td>\n",
       "      <td>0.852033</td>\n",
       "      <td>0.867893</td>\n",
       "    </tr>\n",
       "    <tr>\n",
       "      <th>Precision (micro)</th>\n",
       "      <td>0.772942</td>\n",
       "      <td>0.845790</td>\n",
       "      <td>0.878430</td>\n",
       "      <td>0.872280</td>\n",
       "      <td>0.771523</td>\n",
       "      <td>0.815043</td>\n",
       "      <td>0.851939</td>\n",
       "      <td>0.867550</td>\n",
       "    </tr>\n",
       "    <tr>\n",
       "      <th>Recall (macro)</th>\n",
       "      <td>0.772949</td>\n",
       "      <td>0.845787</td>\n",
       "      <td>0.878416</td>\n",
       "      <td>0.872256</td>\n",
       "      <td>0.771603</td>\n",
       "      <td>0.814944</td>\n",
       "      <td>0.851932</td>\n",
       "      <td>0.867535</td>\n",
       "    </tr>\n",
       "    <tr>\n",
       "      <th>Recall (micro)</th>\n",
       "      <td>0.772942</td>\n",
       "      <td>0.845790</td>\n",
       "      <td>0.878430</td>\n",
       "      <td>0.872280</td>\n",
       "      <td>0.771523</td>\n",
       "      <td>0.815043</td>\n",
       "      <td>0.851939</td>\n",
       "      <td>0.867550</td>\n",
       "    </tr>\n",
       "    <tr>\n",
       "      <th>Cross Validation</th>\n",
       "      <td>0.771672</td>\n",
       "      <td>0.832018</td>\n",
       "      <td>0.874368</td>\n",
       "      <td>0.871019</td>\n",
       "      <td>0.765200</td>\n",
       "      <td>0.822538</td>\n",
       "      <td>0.843486</td>\n",
       "      <td>0.852682</td>\n",
       "    </tr>\n",
       "    <tr>\n",
       "      <th>Execution Time (sec)</th>\n",
       "      <td>9.676564</td>\n",
       "      <td>0.301543</td>\n",
       "      <td>3.972808</td>\n",
       "      <td>3.246149</td>\n",
       "      <td>0.106590</td>\n",
       "      <td>0.953759</td>\n",
       "      <td>20.225848</td>\n",
       "      <td>4.669855</td>\n",
       "    </tr>\n",
       "  </tbody>\n",
       "</table>\n",
       "</div>"
      ],
      "text/plain": [
       "                      Logistic Classification  Decision Tree Classification  \\\n",
       "Accuracy                             0.772942                      0.845790   \n",
       "F1 (macro)                           0.772932                      0.845788   \n",
       "F1 (micro)                           0.772942                      0.845790   \n",
       "Precision (macro)                    0.773004                      0.845802   \n",
       "Precision (micro)                    0.772942                      0.845790   \n",
       "Recall (macro)                       0.772949                      0.845787   \n",
       "Recall (micro)                       0.772942                      0.845790   \n",
       "Cross Validation                     0.771672                      0.832018   \n",
       "Execution Time (sec)                 9.676564                      0.301543   \n",
       "\n",
       "                      Random Forest Classification  \\\n",
       "Accuracy                                  0.878430   \n",
       "F1 (macro)                                0.878403   \n",
       "F1 (micro)                                0.878430   \n",
       "Precision (macro)                         0.878721   \n",
       "Precision (micro)                         0.878430   \n",
       "Recall (macro)                            0.878416   \n",
       "Recall (micro)                            0.878430   \n",
       "Cross Validation                          0.874368   \n",
       "Execution Time (sec)                      3.972808   \n",
       "\n",
       "                      Extra Trees Classification  Naive Bayes Classification  \\\n",
       "Accuracy                                0.872280                    0.771523   \n",
       "F1 (macro)                              0.872190                    0.769910   \n",
       "F1 (micro)                              0.872280                    0.771523   \n",
       "Precision (macro)                       0.873266                    0.779530   \n",
       "Precision (micro)                       0.872280                    0.771523   \n",
       "Recall (macro)                          0.872256                    0.771603   \n",
       "Recall (micro)                          0.872280                    0.771523   \n",
       "Cross Validation                        0.871019                    0.765200   \n",
       "Execution Time (sec)                    3.246149                    0.106590   \n",
       "\n",
       "                      Nearest Neighbors Classification  \\\n",
       "Accuracy                                      0.815043   \n",
       "F1 (macro)                                    0.812961   \n",
       "F1 (micro)                                    0.815043   \n",
       "Precision (macro)                             0.829477   \n",
       "Precision (micro)                             0.815043   \n",
       "Recall (macro)                                0.814944   \n",
       "Recall (micro)                                0.815043   \n",
       "Cross Validation                              0.822538   \n",
       "Execution Time (sec)                          0.953759   \n",
       "\n",
       "                      Gradient Boosting Classification  \\\n",
       "Accuracy                                      0.851939   \n",
       "F1 (macro)                                    0.851927   \n",
       "F1 (micro)                                    0.851939   \n",
       "Precision (macro)                             0.852033   \n",
       "Precision (micro)                             0.851939   \n",
       "Recall (macro)                                0.851932   \n",
       "Recall (micro)                                0.851939   \n",
       "Cross Validation                              0.843486   \n",
       "Execution Time (sec)                         20.225848   \n",
       "\n",
       "                      Multi-Layer Perception Classification  \n",
       "Accuracy                                           0.867550  \n",
       "F1 (macro)                                         0.867515  \n",
       "F1 (micro)                                         0.867550  \n",
       "Precision (macro)                                  0.867893  \n",
       "Precision (micro)                                  0.867550  \n",
       "Recall (macro)                                     0.867535  \n",
       "Recall (micro)                                     0.867550  \n",
       "Cross Validation                                   0.852682  \n",
       "Execution Time (sec)                               4.669855  "
      ]
     },
     "execution_count": 81,
     "metadata": {},
     "output_type": "execute_result"
    }
   ],
   "source": [
    "final_metrics = pd.concat([class_metrics, xv_metrics, et_metrics])\n",
    "print(\"Classification Summary with Numerical Feature Set\\n\")\n",
    "final_metrics"
   ]
  },
  {
   "cell_type": "markdown",
   "metadata": {},
   "source": [
    "## Test Random Forest Classifier on Unseen Samples"
   ]
  },
  {
   "cell_type": "code",
   "execution_count": 82,
   "metadata": {
    "collapsed": false
   },
   "outputs": [
    {
     "name": "stdout",
     "output_type": "stream",
     "text": [
      "predicted = [1 1 0 1 1 1 1 0 0 0]\n",
      "actual =    [1 1 0 1 1 1 0 0 0 0]\n"
     ]
    }
   ],
   "source": [
    "dUT = dUT[['Checkout_Month', 'Checkout_WeekDay', 'Checkout_Hour', 'Temperature', 'Apparent_Temperature',\n",
    "             'Cloud_Cover', 'Wind_Speed', 'Humidity', 'Visibility', 'Number_Of_Checkouts']]\n",
    "features = ['Checkout_Month', 'Checkout_WeekDay', 'Checkout_Hour',  \n",
    "                 'Temperature', 'Apparent_Temperature', 'Cloud_Cover', 'Wind_Speed', 'Humidity', 'Visibility']\n",
    "dUT['Class_Label'] = dUT['Number_Of_Checkouts'].map(lambda x: 0 if ((x >= 1) & (x <= 10)) \n",
    "                                                 else 1)\n",
    "pred_X = dUT[features]\n",
    "act_y = dUT['Class_Label']\n",
    "pred_array = dUT.values\n",
    "pred_X_array = pred_array[:,0:9]\n",
    "act_y_array = pred_array[:,10].astype(int)\n",
    "\n",
    "rfc = RandomForestClassifier(n_estimators=150, max_features='auto', max_depth=None, random_state=0, n_jobs=-1)\n",
    "rfc.fit(X, y)\n",
    "pred = rfc.predict(pred_X_array)\n",
    "print('predicted =', pred)\n",
    "print('actual =   ', act_y_array)"
   ]
  },
  {
   "cell_type": "markdown",
   "metadata": {
    "collapsed": true
   },
   "source": [
    "## 4. Summary\n",
    "\n",
    "The Random Forest and the Extra Trees classifers achieved the highest accuracy and the Naïve Bayes the lowest."
   ]
  }
 ],
 "metadata": {
  "anaconda-cloud": {},
  "kernelspec": {
   "display_name": "Python 3",
   "language": "python",
   "name": "python3"
  },
  "language_info": {
   "codemirror_mode": {
    "name": "ipython",
    "version": 3
   },
   "file_extension": ".py",
   "mimetype": "text/x-python",
   "name": "python",
   "nbconvert_exporter": "python",
   "pygments_lexer": "ipython3",
   "version": "3.6.0"
  }
 },
 "nbformat": 4,
 "nbformat_minor": 1
}
