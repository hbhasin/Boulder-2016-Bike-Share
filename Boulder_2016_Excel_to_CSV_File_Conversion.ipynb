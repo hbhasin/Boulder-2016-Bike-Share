{
 "cells": [
  {
   "cell_type": "code",
   "execution_count": 1,
   "metadata": {
    "collapsed": true
   },
   "outputs": [],
   "source": [
    "import pandas as pd\n",
    "import csv\n",
    "import zipfile"
   ]
  },
  {
   "cell_type": "code",
   "execution_count": 2,
   "metadata": {
    "collapsed": false
   },
   "outputs": [],
   "source": [
    "dT = pd.read_excel('data/Boulder_B-cycle_2016_Trip_Data.xlsx')"
   ]
  },
  {
   "cell_type": "code",
   "execution_count": 3,
   "metadata": {
    "collapsed": false
   },
   "outputs": [
    {
     "name": "stdout",
     "output_type": "stream",
     "text": [
      "<class 'pandas.core.frame.DataFrame'>\n",
      "RangeIndex: 113728 entries, 0 to 113727\n",
      "Data columns (total 13 columns):\n",
      "Rider Home System           113728 non-null object\n",
      "Rider or Operator Number    113728 non-null object\n",
      "Entry Pass Type             113726 non-null object\n",
      "Bike Number                 113728 non-null object\n",
      "Checkout Date               113728 non-null datetime64[ns]\n",
      "Checkout Day of Week        113728 non-null object\n",
      "Checkout Time               113728 non-null object\n",
      "Checkout Station            113728 non-null object\n",
      "Return Date                 113728 non-null object\n",
      "Return Day of Week          113726 non-null object\n",
      "Return Time                 113728 non-null object\n",
      "Return Station              113726 non-null object\n",
      "Trip Duration (Minutes)     113728 non-null int64\n",
      "dtypes: datetime64[ns](1), int64(1), object(11)\n",
      "memory usage: 11.3+ MB\n"
     ]
    }
   ],
   "source": [
    "dT.info()"
   ]
  },
  {
   "cell_type": "code",
   "execution_count": 4,
   "metadata": {
    "collapsed": false
   },
   "outputs": [],
   "source": [
    "dT.drop(['Checkout Day of Week', 'Return Day of Week'], axis = 1, inplace = True)"
   ]
  },
  {
   "cell_type": "code",
   "execution_count": 5,
   "metadata": {
    "collapsed": false
   },
   "outputs": [],
   "source": [
    "# rename columns to make them more descriptive and replace spaces with special characters with underscores\n",
    "dT.rename(columns = {'Rider Home System': 'User_Program', 'Rider or Operator Number': 'User_ID',\n",
    "                     'Entry Pass Type' : 'Membership_Type', 'Bike Number' : 'Bike_Number',\n",
    "                     'Checkout Date' : 'Checkout_Date', 'Checkout Time' : 'Checkout_Time',\n",
    "                     'Checkout Station': 'Checkout_Kiosk', 'Return Date': 'Return_Date',\n",
    "                     'Return Time': 'Return_Time', 'Return Station': 'Return_Kiosk',\n",
    "                     'Trip Duration (Minutes)': 'Trip_Duration'}, inplace = True)"
   ]
  },
  {
   "cell_type": "code",
   "execution_count": 6,
   "metadata": {
    "collapsed": false
   },
   "outputs": [],
   "source": [
    "dT[['Bike_Number']] = dT[['Bike_Number']].astype(object)"
   ]
  },
  {
   "cell_type": "code",
   "execution_count": 7,
   "metadata": {
    "collapsed": false
   },
   "outputs": [
    {
     "data": {
      "text/plain": [
       "(113728, 11)"
      ]
     },
     "execution_count": 7,
     "metadata": {},
     "output_type": "execute_result"
    }
   ],
   "source": [
    "dT.shape"
   ]
  },
  {
   "cell_type": "code",
   "execution_count": 8,
   "metadata": {
    "collapsed": false
   },
   "outputs": [
    {
     "name": "stdout",
     "output_type": "stream",
     "text": [
      "<class 'pandas.core.frame.DataFrame'>\n",
      "RangeIndex: 113728 entries, 0 to 113727\n",
      "Data columns (total 11 columns):\n",
      "User_Program       113728 non-null object\n",
      "User_ID            113728 non-null object\n",
      "Membership_Type    113726 non-null object\n",
      "Bike_Number        113728 non-null object\n",
      "Checkout_Date      113728 non-null datetime64[ns]\n",
      "Checkout_Time      113728 non-null object\n",
      "Checkout_Kiosk     113728 non-null object\n",
      "Return_Date        113728 non-null object\n",
      "Return_Time        113728 non-null object\n",
      "Return_Kiosk       113726 non-null object\n",
      "Trip_Duration      113728 non-null int64\n",
      "dtypes: datetime64[ns](1), int64(1), object(9)\n",
      "memory usage: 9.5+ MB\n"
     ]
    }
   ],
   "source": [
    "dT.info()"
   ]
  },
  {
   "cell_type": "code",
   "execution_count": 9,
   "metadata": {
    "collapsed": true
   },
   "outputs": [],
   "source": [
    "dK = pd.read_excel('data/Boulder_B-cycle_2016_Trip_Data.xlsx', sheetname = 'Station Information')"
   ]
  },
  {
   "cell_type": "code",
   "execution_count": 10,
   "metadata": {
    "collapsed": false
   },
   "outputs": [
    {
     "name": "stdout",
     "output_type": "stream",
     "text": [
      "<class 'pandas.core.frame.DataFrame'>\n",
      "RangeIndex: 44 entries, 0 to 43\n",
      "Data columns (total 10 columns):\n",
      "Checkout Station               44 non-null object\n",
      "Return Station                 44 non-null object\n",
      "Checkout Station Latitude      44 non-null float64\n",
      "Checkout Station Longitude     44 non-null float64\n",
      "Return Station Latitude        44 non-null float64\n",
      "Return Station Longitude       44 non-null float64\n",
      "Power Source                   44 non-null object\n",
      "Installation Date              44 non-null datetime64[ns]\n",
      "Removal Date                   44 non-null object\n",
      "Most Recent Number of Docks    44 non-null int64\n",
      "dtypes: datetime64[ns](1), float64(4), int64(1), object(4)\n",
      "memory usage: 3.5+ KB\n"
     ]
    }
   ],
   "source": [
    "dK.info()"
   ]
  },
  {
   "cell_type": "code",
   "execution_count": 11,
   "metadata": {
    "collapsed": true
   },
   "outputs": [],
   "source": [
    "# rename columns to make them more descriptive and replace spaces with special characters with underscores\n",
    "dK.rename(columns = {'Checkout Station': 'Checkout_Kiosk', 'Return Station': 'Return_Kiosk',\n",
    "                     'Checkout Station Latitude': 'Checkout_Kiosk_Latitude',\n",
    "                     'Checkout Station Longitude': 'Checkout_Kiosk_Longitude',\n",
    "                     'Return Station Latitude': 'Return_Kiosk_Latitude',\n",
    "                     'Return Station Longitude': 'Return_Kiosk_Longitude',\n",
    "                     'Power Source': 'Power_Source',\n",
    "                     'Installation Date': 'Installation_Date',\n",
    "                     'Removal Date': 'Removal_Date',\n",
    "                     'Most Recent Number of Docks': 'Most_Recent_Number_Of_Docks'}, inplace = True)"
   ]
  },
  {
   "cell_type": "code",
   "execution_count": 12,
   "metadata": {
    "collapsed": false
   },
   "outputs": [],
   "source": [
    "dT.to_csv(\"data/2016_Boulder_Bike_Trip_Data.gz\", index=False, compression=\"gzip\")"
   ]
  },
  {
   "cell_type": "code",
   "execution_count": 13,
   "metadata": {
    "collapsed": true
   },
   "outputs": [],
   "source": [
    "dK.to_csv(\"data/2016_Boulder_Bike_Kiosks_Info.gz\", index=False, compression=\"gzip\")"
   ]
  }
 ],
 "metadata": {
  "anaconda-cloud": {},
  "kernelspec": {
   "display_name": "Python 3",
   "language": "python",
   "name": "python3"
  },
  "language_info": {
   "codemirror_mode": {
    "name": "ipython",
    "version": 3
   },
   "file_extension": ".py",
   "mimetype": "text/x-python",
   "name": "python",
   "nbconvert_exporter": "python",
   "pygments_lexer": "ipython3",
   "version": "3.6.0"
  }
 },
 "nbformat": 4,
 "nbformat_minor": 1
}
